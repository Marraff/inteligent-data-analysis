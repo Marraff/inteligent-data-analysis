{
 "cells": [
  {
   "cell_type": "markdown",
   "metadata": {},
   "source": [
    "IAU Projekt 1. fáza\n",
    "\n",
    "Autori: Martin Raffáč, Tibor Vanek\n"
   ]
  },
  {
   "cell_type": "code",
   "execution_count": 3,
   "metadata": {},
   "outputs": [],
   "source": [
    "import matplotlib.pyplot as plt\n",
    "import seaborn as sns\n",
    "import pandas as pd\n",
    "import numpy as np\n",
    "import matplotlib as mat\n",
    "import matplotlib.pylab as pylab\n",
    "import statsmodels.api as sm\n",
    "import statsmodels.stats as sm_stats\n",
    "import statsmodels.stats.api as sms\n",
    "import scipy.stats as stats\n",
    "from matplotlib import pyplot\n",
    "from collections import Counter"
   ]
  },
  {
   "cell_type": "code",
   "execution_count": 4,
   "metadata": {},
   "outputs": [
    {
     "data": {
      "text/html": [
       "<div>\n",
       "<style scoped>\n",
       "    .dataframe tbody tr th:only-of-type {\n",
       "        vertical-align: middle;\n",
       "    }\n",
       "\n",
       "    .dataframe tbody tr th {\n",
       "        vertical-align: top;\n",
       "    }\n",
       "\n",
       "    .dataframe thead th {\n",
       "        text-align: right;\n",
       "    }\n",
       "</style>\n",
       "<table border=\"1\" class=\"dataframe\">\n",
       "  <thead>\n",
       "    <tr style=\"text-align: right;\">\n",
       "      <th></th>\n",
       "      <th>longitude</th>\n",
       "      <th>C2H3NO5</th>\n",
       "      <th>O3</th>\n",
       "      <th>CO</th>\n",
       "      <th>warning</th>\n",
       "      <th>Pb</th>\n",
       "      <th>PAHs</th>\n",
       "      <th>PM2.5</th>\n",
       "      <th>PRES</th>\n",
       "      <th>TEMP</th>\n",
       "      <th>latitude</th>\n",
       "      <th>NH3</th>\n",
       "      <th>H2CO</th>\n",
       "      <th>SO2</th>\n",
       "      <th>CH4</th>\n",
       "      <th>PM10</th>\n",
       "      <th>CFCs</th>\n",
       "      <th>NOx</th>\n",
       "    </tr>\n",
       "  </thead>\n",
       "  <tbody>\n",
       "    <tr>\n",
       "      <th>0</th>\n",
       "      <td>30.28491</td>\n",
       "      <td>0.01960</td>\n",
       "      <td>8.26626</td>\n",
       "      <td>9.07784</td>\n",
       "      <td>0.0</td>\n",
       "      <td>46.83125</td>\n",
       "      <td>5.53330</td>\n",
       "      <td>5.37316</td>\n",
       "      <td>1101.06102</td>\n",
       "      <td>33.34540</td>\n",
       "      <td>60.02427</td>\n",
       "      <td>6.23330</td>\n",
       "      <td>54.29137</td>\n",
       "      <td>7.88335</td>\n",
       "      <td>5.85807</td>\n",
       "      <td>5.68070</td>\n",
       "      <td>28.12016</td>\n",
       "      <td>11.49560</td>\n",
       "    </tr>\n",
       "    <tr>\n",
       "      <th>1</th>\n",
       "      <td>120.89694</td>\n",
       "      <td>0.04735</td>\n",
       "      <td>8.35627</td>\n",
       "      <td>6.95474</td>\n",
       "      <td>1.0</td>\n",
       "      <td>48.68708</td>\n",
       "      <td>15.29667</td>\n",
       "      <td>7.42089</td>\n",
       "      <td>1141.23149</td>\n",
       "      <td>20.75105</td>\n",
       "      <td>14.95472</td>\n",
       "      <td>9.32493</td>\n",
       "      <td>53.43339</td>\n",
       "      <td>8.41893</td>\n",
       "      <td>8.32431</td>\n",
       "      <td>7.01594</td>\n",
       "      <td>82.17695</td>\n",
       "      <td>9.13370</td>\n",
       "    </tr>\n",
       "    <tr>\n",
       "      <th>2</th>\n",
       "      <td>141.95000</td>\n",
       "      <td>0.04530</td>\n",
       "      <td>7.47394</td>\n",
       "      <td>7.47366</td>\n",
       "      <td>1.0</td>\n",
       "      <td>60.75523</td>\n",
       "      <td>10.47662</td>\n",
       "      <td>8.29646</td>\n",
       "      <td>1117.39968</td>\n",
       "      <td>21.07022</td>\n",
       "      <td>39.46667</td>\n",
       "      <td>9.15644</td>\n",
       "      <td>31.70985</td>\n",
       "      <td>9.80100</td>\n",
       "      <td>9.24057</td>\n",
       "      <td>7.72587</td>\n",
       "      <td>19.48463</td>\n",
       "      <td>7.41425</td>\n",
       "    </tr>\n",
       "    <tr>\n",
       "      <th>3</th>\n",
       "      <td>15.07041</td>\n",
       "      <td>8.64588</td>\n",
       "      <td>8.50563</td>\n",
       "      <td>7.79137</td>\n",
       "      <td>0.0</td>\n",
       "      <td>54.89256</td>\n",
       "      <td>8.17284</td>\n",
       "      <td>8.34238</td>\n",
       "      <td>1175.94780</td>\n",
       "      <td>11.22310</td>\n",
       "      <td>37.49223</td>\n",
       "      <td>8.47673</td>\n",
       "      <td>58.04300</td>\n",
       "      <td>3.12505</td>\n",
       "      <td>6.73364</td>\n",
       "      <td>13.35810</td>\n",
       "      <td>55.11303</td>\n",
       "      <td>5.24699</td>\n",
       "    </tr>\n",
       "    <tr>\n",
       "      <th>4</th>\n",
       "      <td>-94.74049</td>\n",
       "      <td>0.02774</td>\n",
       "      <td>8.01382</td>\n",
       "      <td>9.46041</td>\n",
       "      <td>0.0</td>\n",
       "      <td>61.97648</td>\n",
       "      <td>6.41785</td>\n",
       "      <td>7.84354</td>\n",
       "      <td>1160.95559</td>\n",
       "      <td>-1.44749</td>\n",
       "      <td>32.50070</td>\n",
       "      <td>8.01924</td>\n",
       "      <td>64.31668</td>\n",
       "      <td>9.01725</td>\n",
       "      <td>6.75349</td>\n",
       "      <td>7.07762</td>\n",
       "      <td>50.38845</td>\n",
       "      <td>9.37646</td>\n",
       "    </tr>\n",
       "  </tbody>\n",
       "</table>\n",
       "</div>"
      ],
      "text/plain": [
       "   longitude  C2H3NO5       O3       CO  warning        Pb      PAHs    PM2.5  \\\n",
       "0   30.28491  0.01960  8.26626  9.07784      0.0  46.83125   5.53330  5.37316   \n",
       "1  120.89694  0.04735  8.35627  6.95474      1.0  48.68708  15.29667  7.42089   \n",
       "2  141.95000  0.04530  7.47394  7.47366      1.0  60.75523  10.47662  8.29646   \n",
       "3   15.07041  8.64588  8.50563  7.79137      0.0  54.89256   8.17284  8.34238   \n",
       "4  -94.74049  0.02774  8.01382  9.46041      0.0  61.97648   6.41785  7.84354   \n",
       "\n",
       "         PRES      TEMP  latitude      NH3      H2CO      SO2      CH4  \\\n",
       "0  1101.06102  33.34540  60.02427  6.23330  54.29137  7.88335  5.85807   \n",
       "1  1141.23149  20.75105  14.95472  9.32493  53.43339  8.41893  8.32431   \n",
       "2  1117.39968  21.07022  39.46667  9.15644  31.70985  9.80100  9.24057   \n",
       "3  1175.94780  11.22310  37.49223  8.47673  58.04300  3.12505  6.73364   \n",
       "4  1160.95559  -1.44749  32.50070  8.01924  64.31668  9.01725  6.75349   \n",
       "\n",
       "       PM10      CFCs       NOx  \n",
       "0   5.68070  28.12016  11.49560  \n",
       "1   7.01594  82.17695   9.13370  \n",
       "2   7.72587  19.48463   7.41425  \n",
       "3  13.35810  55.11303   5.24699  \n",
       "4   7.07762  50.38845   9.37646  "
      ]
     },
     "execution_count": 4,
     "metadata": {},
     "output_type": "execute_result"
    }
   ],
   "source": [
    "filename1 = \"./dataset-003/measurements.csv\"\n",
    "measurements = pd.read_csv(filename1, sep='\\t')\n",
    "measurements.head()\n",
    "\n",
    "\n"
   ]
  },
  {
   "cell_type": "code",
   "execution_count": 5,
   "metadata": {},
   "outputs": [
    {
     "data": {
      "text/html": [
       "<div>\n",
       "<style scoped>\n",
       "    .dataframe tbody tr th:only-of-type {\n",
       "        vertical-align: middle;\n",
       "    }\n",
       "\n",
       "    .dataframe tbody tr th {\n",
       "        vertical-align: top;\n",
       "    }\n",
       "\n",
       "    .dataframe thead th {\n",
       "        text-align: right;\n",
       "    }\n",
       "</style>\n",
       "<table border=\"1\" class=\"dataframe\">\n",
       "  <thead>\n",
       "    <tr style=\"text-align: right;\">\n",
       "      <th></th>\n",
       "      <th>station</th>\n",
       "      <th>revision</th>\n",
       "      <th>QoS</th>\n",
       "      <th>longitude</th>\n",
       "      <th>code</th>\n",
       "      <th>latitude</th>\n",
       "    </tr>\n",
       "  </thead>\n",
       "  <tbody>\n",
       "    <tr>\n",
       "      <th>0</th>\n",
       "      <td>Barra dos Coqueiros</td>\n",
       "      <td>2020-02-07</td>\n",
       "      <td>maintenance</td>\n",
       "      <td>-37.03861</td>\n",
       "      <td>BR</td>\n",
       "      <td>-10.90889</td>\n",
       "    </tr>\n",
       "    <tr>\n",
       "      <th>1</th>\n",
       "      <td>Tyoply Stan</td>\n",
       "      <td>09/13/2018, 00:00:00</td>\n",
       "      <td>excellent</td>\n",
       "      <td>37.49338</td>\n",
       "      <td>RU</td>\n",
       "      <td>55.62047</td>\n",
       "    </tr>\n",
       "    <tr>\n",
       "      <th>2</th>\n",
       "      <td>Leland</td>\n",
       "      <td>2019-07-09</td>\n",
       "      <td>excellent</td>\n",
       "      <td>-78.04471</td>\n",
       "      <td>US</td>\n",
       "      <td>34.25628</td>\n",
       "    </tr>\n",
       "    <tr>\n",
       "      <th>3</th>\n",
       "      <td>Hermsdorf</td>\n",
       "      <td>15 Mar 2022</td>\n",
       "      <td>excellent</td>\n",
       "      <td>13.31783</td>\n",
       "      <td>DE</td>\n",
       "      <td>52.61131</td>\n",
       "    </tr>\n",
       "    <tr>\n",
       "      <th>4</th>\n",
       "      <td>Ulan Bator</td>\n",
       "      <td>12/26/2016, 00:00:00</td>\n",
       "      <td>maintenance</td>\n",
       "      <td>106.88324</td>\n",
       "      <td>MN</td>\n",
       "      <td>47.90771</td>\n",
       "    </tr>\n",
       "  </tbody>\n",
       "</table>\n",
       "</div>"
      ],
      "text/plain": [
       "               station              revision          QoS  longitude code  \\\n",
       "0  Barra dos Coqueiros            2020-02-07  maintenance  -37.03861   BR   \n",
       "1          Tyoply Stan  09/13/2018, 00:00:00    excellent   37.49338   RU   \n",
       "2               Leland            2019-07-09    excellent  -78.04471   US   \n",
       "3            Hermsdorf           15 Mar 2022    excellent   13.31783   DE   \n",
       "4           Ulan Bator  12/26/2016, 00:00:00  maintenance  106.88324   MN   \n",
       "\n",
       "   latitude  \n",
       "0 -10.90889  \n",
       "1  55.62047  \n",
       "2  34.25628  \n",
       "3  52.61131  \n",
       "4  47.90771  "
      ]
     },
     "execution_count": 5,
     "metadata": {},
     "output_type": "execute_result"
    }
   ],
   "source": [
    "filename2 = \"./dataset-003/stations.csv\"\n",
    "stations = pd.read_csv(filename2, sep='\\t')\n",
    "stations.head()"
   ]
  },
  {
   "cell_type": "markdown",
   "metadata": {},
   "source": [
    "1. Základný opis dát spolu s ich charakteristikou \n",
    "\n",
    "V tejto časti uvedieme:\n",
    "    ● Počet záznamov, počet atribútov, ich typy,\n",
    "    ● Pre zvolené významné atribúty ich distribúcie, základné deskriptívne štatistiky a pod.\n",
    "    ● Párová analýza dát: preskúmajte vzťahy medzi zvolenými dvojicami atribútov.\n",
    "    ● Párová analýza dát: Identifikujte závislostí medzi dvojicami atribútov (napr. korelácie)\n",
    "    ● Párová analýza dát: Identifikujte závislosti medzi predikovanou premennou a ostatnými\n",
    "    premennými (potenciálnymi prediktormi).\n",
    "\n",
    "dataset measurements.csv obsahuje 12075 záznamov o chemických prvkoch. Počet atribútov v tomto datasete je 18. \n",
    "\n",
    "dataset stations.csv obsahuje 1103 záznamov o chemických prvkoch. Počet atribútov v tomto datasete je 6.\n",
    "\n",
    "Zoznam daných atribútov:\n",
    "\n",
    " ●   longitude  číselná hodnota\n",
    " ●   C2H3NO5    číselná hodnota\n",
    " ●   O3         číselná hodnota\n",
    " ●   CO         číselná hodnota\n",
    " ●   warning    číselná hodnota\n",
    " ●   Pb         číselná hodnota\n",
    " ●   PAHs       číselná hodnota \n",
    " ●   PM2.5      číselná hodnota\n",
    " ●   PRES       číselná hodnota\n",
    " ●   TEMP       číselná hodnota\n",
    " ●   latitude   číselná hodnota\n",
    " ●   NH3        číselná hodnota\n",
    " ●   H2CO       číselná hodnota\n",
    " ●   SO2        číselná hodnota\n",
    " ●   CH4        číselná hodnota\n",
    " ●   PM10       číselná hodnota\n",
    " ●   CFCs       číselná hodnota\n",
    " ●   NOx        číselná hodnota\n",
    "\n"
   ]
  },
  {
   "cell_type": "code",
   "execution_count": 6,
   "metadata": {},
   "outputs": [
    {
     "data": {
      "text/html": [
       "<div>\n",
       "<style scoped>\n",
       "    .dataframe tbody tr th:only-of-type {\n",
       "        vertical-align: middle;\n",
       "    }\n",
       "\n",
       "    .dataframe tbody tr th {\n",
       "        vertical-align: top;\n",
       "    }\n",
       "\n",
       "    .dataframe thead th {\n",
       "        text-align: right;\n",
       "    }\n",
       "</style>\n",
       "<table border=\"1\" class=\"dataframe\">\n",
       "  <thead>\n",
       "    <tr style=\"text-align: right;\">\n",
       "      <th></th>\n",
       "      <th>longitude</th>\n",
       "      <th>C2H3NO5</th>\n",
       "      <th>O3</th>\n",
       "      <th>CO</th>\n",
       "      <th>warning</th>\n",
       "      <th>Pb</th>\n",
       "      <th>PAHs</th>\n",
       "      <th>PM2.5</th>\n",
       "      <th>PRES</th>\n",
       "      <th>TEMP</th>\n",
       "      <th>latitude</th>\n",
       "      <th>NH3</th>\n",
       "      <th>H2CO</th>\n",
       "      <th>SO2</th>\n",
       "      <th>CH4</th>\n",
       "      <th>PM10</th>\n",
       "      <th>CFCs</th>\n",
       "      <th>NOx</th>\n",
       "    </tr>\n",
       "  </thead>\n",
       "  <tbody>\n",
       "    <tr>\n",
       "      <th>count</th>\n",
       "      <td>12075.000000</td>\n",
       "      <td>12027.000000</td>\n",
       "      <td>12027.000000</td>\n",
       "      <td>12027.000000</td>\n",
       "      <td>12027.000000</td>\n",
       "      <td>12027.000000</td>\n",
       "      <td>12026.000000</td>\n",
       "      <td>12027.000000</td>\n",
       "      <td>12075.000000</td>\n",
       "      <td>12027.000000</td>\n",
       "      <td>12075.000000</td>\n",
       "      <td>12027.000000</td>\n",
       "      <td>12027.000000</td>\n",
       "      <td>12027.000000</td>\n",
       "      <td>12026.000000</td>\n",
       "      <td>12026.000000</td>\n",
       "      <td>12025.000000</td>\n",
       "      <td>12026.000000</td>\n",
       "    </tr>\n",
       "    <tr>\n",
       "      <th>mean</th>\n",
       "      <td>15.192940</td>\n",
       "      <td>0.170331</td>\n",
       "      <td>8.243161</td>\n",
       "      <td>8.226100</td>\n",
       "      <td>0.596491</td>\n",
       "      <td>50.186935</td>\n",
       "      <td>8.502031</td>\n",
       "      <td>8.229532</td>\n",
       "      <td>1124.800136</td>\n",
       "      <td>14.959069</td>\n",
       "      <td>28.472685</td>\n",
       "      <td>7.713508</td>\n",
       "      <td>47.566325</td>\n",
       "      <td>9.002650</td>\n",
       "      <td>8.492999</td>\n",
       "      <td>7.439091</td>\n",
       "      <td>51.446245</td>\n",
       "      <td>7.460853</td>\n",
       "    </tr>\n",
       "    <tr>\n",
       "      <th>std</th>\n",
       "      <td>74.224284</td>\n",
       "      <td>1.055270</td>\n",
       "      <td>0.996025</td>\n",
       "      <td>1.003052</td>\n",
       "      <td>0.490622</td>\n",
       "      <td>12.100899</td>\n",
       "      <td>1.931576</td>\n",
       "      <td>1.005640</td>\n",
       "      <td>43.308139</td>\n",
       "      <td>9.934451</td>\n",
       "      <td>22.845126</td>\n",
       "      <td>1.950890</td>\n",
       "      <td>13.212382</td>\n",
       "      <td>1.672296</td>\n",
       "      <td>1.986720</td>\n",
       "      <td>1.875983</td>\n",
       "      <td>13.186757</td>\n",
       "      <td>1.727860</td>\n",
       "    </tr>\n",
       "    <tr>\n",
       "      <th>min</th>\n",
       "      <td>-156.474320</td>\n",
       "      <td>0.000000</td>\n",
       "      <td>4.660310</td>\n",
       "      <td>4.464290</td>\n",
       "      <td>0.000000</td>\n",
       "      <td>0.000000</td>\n",
       "      <td>1.058880</td>\n",
       "      <td>4.218270</td>\n",
       "      <td>1050.001570</td>\n",
       "      <td>-21.492790</td>\n",
       "      <td>-54.800000</td>\n",
       "      <td>0.000000</td>\n",
       "      <td>0.000000</td>\n",
       "      <td>1.801440</td>\n",
       "      <td>0.233150</td>\n",
       "      <td>0.994780</td>\n",
       "      <td>0.000000</td>\n",
       "      <td>0.596490</td>\n",
       "    </tr>\n",
       "    <tr>\n",
       "      <th>25%</th>\n",
       "      <td>-52.355580</td>\n",
       "      <td>0.027100</td>\n",
       "      <td>7.572615</td>\n",
       "      <td>7.541400</td>\n",
       "      <td>0.000000</td>\n",
       "      <td>42.104350</td>\n",
       "      <td>7.121487</td>\n",
       "      <td>7.558260</td>\n",
       "      <td>1087.231535</td>\n",
       "      <td>8.249165</td>\n",
       "      <td>14.620720</td>\n",
       "      <td>6.370755</td>\n",
       "      <td>38.573510</td>\n",
       "      <td>8.172625</td>\n",
       "      <td>7.148212</td>\n",
       "      <td>6.165990</td>\n",
       "      <td>42.674950</td>\n",
       "      <td>6.351095</td>\n",
       "    </tr>\n",
       "    <tr>\n",
       "      <th>50%</th>\n",
       "      <td>11.500000</td>\n",
       "      <td>0.042240</td>\n",
       "      <td>8.243740</td>\n",
       "      <td>8.213650</td>\n",
       "      <td>1.000000</td>\n",
       "      <td>50.260780</td>\n",
       "      <td>8.562045</td>\n",
       "      <td>8.234510</td>\n",
       "      <td>1124.654680</td>\n",
       "      <td>14.956420</td>\n",
       "      <td>35.899720</td>\n",
       "      <td>7.601500</td>\n",
       "      <td>47.630350</td>\n",
       "      <td>9.221320</td>\n",
       "      <td>8.649600</td>\n",
       "      <td>7.352215</td>\n",
       "      <td>51.426230</td>\n",
       "      <td>7.304430</td>\n",
       "    </tr>\n",
       "    <tr>\n",
       "      <th>75%</th>\n",
       "      <td>74.122860</td>\n",
       "      <td>0.098490</td>\n",
       "      <td>8.914240</td>\n",
       "      <td>8.910910</td>\n",
       "      <td>1.000000</td>\n",
       "      <td>58.312705</td>\n",
       "      <td>9.859282</td>\n",
       "      <td>8.910315</td>\n",
       "      <td>1162.067155</td>\n",
       "      <td>21.660035</td>\n",
       "      <td>44.976390</td>\n",
       "      <td>9.037325</td>\n",
       "      <td>56.478610</td>\n",
       "      <td>10.085010</td>\n",
       "      <td>9.925450</td>\n",
       "      <td>8.647887</td>\n",
       "      <td>60.334910</td>\n",
       "      <td>8.525882</td>\n",
       "    </tr>\n",
       "    <tr>\n",
       "      <th>max</th>\n",
       "      <td>178.004170</td>\n",
       "      <td>100.000000</td>\n",
       "      <td>12.364080</td>\n",
       "      <td>11.627400</td>\n",
       "      <td>1.000000</td>\n",
       "      <td>100.000000</td>\n",
       "      <td>15.863860</td>\n",
       "      <td>11.944030</td>\n",
       "      <td>1199.998800</td>\n",
       "      <td>54.773100</td>\n",
       "      <td>68.798330</td>\n",
       "      <td>15.767780</td>\n",
       "      <td>100.000000</td>\n",
       "      <td>15.619170</td>\n",
       "      <td>14.350810</td>\n",
       "      <td>15.809190</td>\n",
       "      <td>100.000000</td>\n",
       "      <td>15.055640</td>\n",
       "    </tr>\n",
       "  </tbody>\n",
       "</table>\n",
       "</div>"
      ],
      "text/plain": [
       "          longitude       C2H3NO5            O3            CO       warning  \\\n",
       "count  12075.000000  12027.000000  12027.000000  12027.000000  12027.000000   \n",
       "mean      15.192940      0.170331      8.243161      8.226100      0.596491   \n",
       "std       74.224284      1.055270      0.996025      1.003052      0.490622   \n",
       "min     -156.474320      0.000000      4.660310      4.464290      0.000000   \n",
       "25%      -52.355580      0.027100      7.572615      7.541400      0.000000   \n",
       "50%       11.500000      0.042240      8.243740      8.213650      1.000000   \n",
       "75%       74.122860      0.098490      8.914240      8.910910      1.000000   \n",
       "max      178.004170    100.000000     12.364080     11.627400      1.000000   \n",
       "\n",
       "                 Pb          PAHs         PM2.5          PRES          TEMP  \\\n",
       "count  12027.000000  12026.000000  12027.000000  12075.000000  12027.000000   \n",
       "mean      50.186935      8.502031      8.229532   1124.800136     14.959069   \n",
       "std       12.100899      1.931576      1.005640     43.308139      9.934451   \n",
       "min        0.000000      1.058880      4.218270   1050.001570    -21.492790   \n",
       "25%       42.104350      7.121487      7.558260   1087.231535      8.249165   \n",
       "50%       50.260780      8.562045      8.234510   1124.654680     14.956420   \n",
       "75%       58.312705      9.859282      8.910315   1162.067155     21.660035   \n",
       "max      100.000000     15.863860     11.944030   1199.998800     54.773100   \n",
       "\n",
       "           latitude           NH3          H2CO           SO2           CH4  \\\n",
       "count  12075.000000  12027.000000  12027.000000  12027.000000  12026.000000   \n",
       "mean      28.472685      7.713508     47.566325      9.002650      8.492999   \n",
       "std       22.845126      1.950890     13.212382      1.672296      1.986720   \n",
       "min      -54.800000      0.000000      0.000000      1.801440      0.233150   \n",
       "25%       14.620720      6.370755     38.573510      8.172625      7.148212   \n",
       "50%       35.899720      7.601500     47.630350      9.221320      8.649600   \n",
       "75%       44.976390      9.037325     56.478610     10.085010      9.925450   \n",
       "max       68.798330     15.767780    100.000000     15.619170     14.350810   \n",
       "\n",
       "               PM10          CFCs           NOx  \n",
       "count  12026.000000  12025.000000  12026.000000  \n",
       "mean       7.439091     51.446245      7.460853  \n",
       "std        1.875983     13.186757      1.727860  \n",
       "min        0.994780      0.000000      0.596490  \n",
       "25%        6.165990     42.674950      6.351095  \n",
       "50%        7.352215     51.426230      7.304430  \n",
       "75%        8.647887     60.334910      8.525882  \n",
       "max       15.809190    100.000000     15.055640  "
      ]
     },
     "execution_count": 6,
     "metadata": {},
     "output_type": "execute_result"
    }
   ],
   "source": [
    "measurements.describe()"
   ]
  },
  {
   "cell_type": "code",
   "execution_count": 7,
   "metadata": {},
   "outputs": [
    {
     "data": {
      "text/plain": [
       "12075"
      ]
     },
     "execution_count": 7,
     "metadata": {},
     "output_type": "execute_result"
    }
   ],
   "source": [
    "len(measurements)"
   ]
  },
  {
   "cell_type": "code",
   "execution_count": 8,
   "metadata": {},
   "outputs": [
    {
     "data": {
      "text/plain": [
       "18"
      ]
     },
     "execution_count": 8,
     "metadata": {},
     "output_type": "execute_result"
    }
   ],
   "source": [
    "len(measurements.columns)"
   ]
  },
  {
   "cell_type": "code",
   "execution_count": 9,
   "metadata": {},
   "outputs": [
    {
     "name": "stdout",
     "output_type": "stream",
     "text": [
      "<class 'pandas.core.frame.DataFrame'>\n",
      "RangeIndex: 12075 entries, 0 to 12074\n",
      "Data columns (total 18 columns):\n",
      " #   Column     Non-Null Count  Dtype  \n",
      "---  ------     --------------  -----  \n",
      " 0   longitude  12075 non-null  float64\n",
      " 1   C2H3NO5    12027 non-null  float64\n",
      " 2   O3         12027 non-null  float64\n",
      " 3   CO         12027 non-null  float64\n",
      " 4   warning    12027 non-null  float64\n",
      " 5   Pb         12027 non-null  float64\n",
      " 6   PAHs       12026 non-null  float64\n",
      " 7   PM2.5      12027 non-null  float64\n",
      " 8   PRES       12075 non-null  float64\n",
      " 9   TEMP       12027 non-null  float64\n",
      " 10  latitude   12075 non-null  float64\n",
      " 11  NH3        12027 non-null  float64\n",
      " 12  H2CO       12027 non-null  float64\n",
      " 13  SO2        12027 non-null  float64\n",
      " 14  CH4        12026 non-null  float64\n",
      " 15  PM10       12026 non-null  float64\n",
      " 16  CFCs       12025 non-null  float64\n",
      " 17  NOx        12026 non-null  float64\n",
      "dtypes: float64(18)\n",
      "memory usage: 1.7 MB\n"
     ]
    }
   ],
   "source": [
    "measurements.info()"
   ]
  },
  {
   "cell_type": "code",
   "execution_count": 10,
   "metadata": {},
   "outputs": [
    {
     "data": {
      "text/html": [
       "<div>\n",
       "<style scoped>\n",
       "    .dataframe tbody tr th:only-of-type {\n",
       "        vertical-align: middle;\n",
       "    }\n",
       "\n",
       "    .dataframe tbody tr th {\n",
       "        vertical-align: top;\n",
       "    }\n",
       "\n",
       "    .dataframe thead th {\n",
       "        text-align: right;\n",
       "    }\n",
       "</style>\n",
       "<table border=\"1\" class=\"dataframe\">\n",
       "  <thead>\n",
       "    <tr style=\"text-align: right;\">\n",
       "      <th></th>\n",
       "      <th>longitude</th>\n",
       "      <th>latitude</th>\n",
       "    </tr>\n",
       "  </thead>\n",
       "  <tbody>\n",
       "    <tr>\n",
       "      <th>count</th>\n",
       "      <td>1103.000000</td>\n",
       "      <td>1103.000000</td>\n",
       "    </tr>\n",
       "    <tr>\n",
       "      <th>mean</th>\n",
       "      <td>15.178244</td>\n",
       "      <td>28.546164</td>\n",
       "    </tr>\n",
       "    <tr>\n",
       "      <th>std</th>\n",
       "      <td>74.259394</td>\n",
       "      <td>22.830913</td>\n",
       "    </tr>\n",
       "    <tr>\n",
       "      <th>min</th>\n",
       "      <td>-156.474320</td>\n",
       "      <td>-54.800000</td>\n",
       "    </tr>\n",
       "    <tr>\n",
       "      <th>25%</th>\n",
       "      <td>-52.280985</td>\n",
       "      <td>14.625780</td>\n",
       "    </tr>\n",
       "    <tr>\n",
       "      <th>50%</th>\n",
       "      <td>11.500000</td>\n",
       "      <td>35.956640</td>\n",
       "    </tr>\n",
       "    <tr>\n",
       "      <th>75%</th>\n",
       "      <td>74.216030</td>\n",
       "      <td>44.982700</td>\n",
       "    </tr>\n",
       "    <tr>\n",
       "      <th>max</th>\n",
       "      <td>178.004170</td>\n",
       "      <td>68.798330</td>\n",
       "    </tr>\n",
       "  </tbody>\n",
       "</table>\n",
       "</div>"
      ],
      "text/plain": [
       "         longitude     latitude\n",
       "count  1103.000000  1103.000000\n",
       "mean     15.178244    28.546164\n",
       "std      74.259394    22.830913\n",
       "min    -156.474320   -54.800000\n",
       "25%     -52.280985    14.625780\n",
       "50%      11.500000    35.956640\n",
       "75%      74.216030    44.982700\n",
       "max     178.004170    68.798330"
      ]
     },
     "execution_count": 10,
     "metadata": {},
     "output_type": "execute_result"
    }
   ],
   "source": [
    "stations.describe()"
   ]
  },
  {
   "cell_type": "code",
   "execution_count": 11,
   "metadata": {},
   "outputs": [
    {
     "data": {
      "text/plain": [
       "1103"
      ]
     },
     "execution_count": 11,
     "metadata": {},
     "output_type": "execute_result"
    }
   ],
   "source": [
    "len(stations)"
   ]
  },
  {
   "cell_type": "code",
   "execution_count": 12,
   "metadata": {},
   "outputs": [
    {
     "data": {
      "text/plain": [
       "6"
      ]
     },
     "execution_count": 12,
     "metadata": {},
     "output_type": "execute_result"
    }
   ],
   "source": [
    "len(stations.columns)"
   ]
  },
  {
   "cell_type": "code",
   "execution_count": 13,
   "metadata": {},
   "outputs": [
    {
     "name": "stdout",
     "output_type": "stream",
     "text": [
      "<class 'pandas.core.frame.DataFrame'>\n",
      "RangeIndex: 1103 entries, 0 to 1102\n",
      "Data columns (total 6 columns):\n",
      " #   Column     Non-Null Count  Dtype  \n",
      "---  ------     --------------  -----  \n",
      " 0   station    1103 non-null   object \n",
      " 1   revision   1103 non-null   object \n",
      " 2   QoS        1103 non-null   object \n",
      " 3   longitude  1103 non-null   float64\n",
      " 4   code       1103 non-null   object \n",
      " 5   latitude   1103 non-null   float64\n",
      "dtypes: float64(2), object(4)\n",
      "memory usage: 51.8+ KB\n"
     ]
    }
   ],
   "source": [
    "stations.info()"
   ]
  },
  {
   "cell_type": "markdown",
   "metadata": {},
   "source": [
    "2.1 Identifikácia problémov v dátach s prvotným riešením v datasete measurements.csv. V tomto datasete sme našli duplicitné záznamy a chýbajúce hodnoty. "
   ]
  },
  {
   "cell_type": "code",
   "execution_count": 14,
   "metadata": {},
   "outputs": [
    {
     "name": "stdout",
     "output_type": "stream",
     "text": [
      "Počet záznamov v datasete: 11897\n",
      "V datasete sa nachádza: 178 duplikátov.\n"
     ]
    }
   ],
   "source": [
    "# Vyhľadanie duplicitných záznamov\n",
    "\n",
    "duplicate = measurements[measurements.duplicated()]\n",
    "measurements = measurements.drop_duplicates()\n",
    "print(\"Počet záznamov v datasete: \"+str(len(measurements)))\n",
    "print(\"V datasete sa nachádza: \" + str(len(duplicate)) + \" duplikátov.\")\n"
   ]
  },
  {
   "cell_type": "markdown",
   "metadata": {},
   "source": [
    "Pomocou týchto príkazov sme zistili či sa v datasete nachádzajú duplicitné záznamy, program detegoval 178 duplikátnych záznamov.\n",
    "Tieto duplikáty sme z datasetu vymazali aby nespôsobovali chyby pri neskoršej práci s dátami.\n"
   ]
  },
  {
   "cell_type": "code",
   "execution_count": 15,
   "metadata": {},
   "outputs": [
    {
     "data": {
      "text/plain": [
       "longitude     0\n",
       "C2H3NO5      48\n",
       "O3           48\n",
       "CO           48\n",
       "warning      48\n",
       "Pb           48\n",
       "PAHs         48\n",
       "PM2.5        48\n",
       "PRES          0\n",
       "TEMP         48\n",
       "latitude      0\n",
       "NH3          48\n",
       "H2CO         48\n",
       "SO2          48\n",
       "CH4          48\n",
       "PM10         48\n",
       "CFCs         48\n",
       "NOx          48\n",
       "dtype: int64"
      ]
     },
     "execution_count": 15,
     "metadata": {},
     "output_type": "execute_result"
    }
   ],
   "source": [
    "measurements.isnull().sum()"
   ]
  },
  {
   "cell_type": "markdown",
   "metadata": {},
   "source": [
    "Z tejto štatistiky vyplíva, že viacero atribútov má nulové hodnoty. Polia s nulovou hodnotou sme nahradili priemerom z dôvodu aby sme neprišli o dáta."
   ]
  },
  {
   "cell_type": "code",
   "execution_count": 16,
   "metadata": {},
   "outputs": [],
   "source": [
    "C2H3NO5_mean = measurements['C2H3NO5'].mean()\n",
    "measurements['C2H3NO5'] = measurements['C2H3NO5'].fillna(C2H3NO5_mean)\n",
    "O3_mean = measurements['O3'].mean()\n",
    "measurements['O3'] = measurements['O3'].fillna(O3_mean)\n",
    "CO_mean = measurements['CO'].mean()\n",
    "measurements['CO'] = measurements['CO'].fillna(CO_mean)\n",
    "Pb_mean = measurements['Pb'].mean()\n",
    "measurements['Pb'] = measurements['Pb'].fillna(Pb_mean)\n",
    "PAHs_mean = measurements['PAHs'].mean()\n",
    "measurements['PAHs'] = measurements['PAHs'].fillna(PAHs_mean)\n",
    "PM25_mean = measurements['PM2.5'].mean()\n",
    "measurements['PM2.5'] = measurements['PM2.5'].fillna(PM25_mean)\n",
    "TEMP_mean = measurements['TEMP'].mean()\n",
    "measurements['TEMP'] = measurements['TEMP'].fillna(TEMP_mean)\n",
    "NH3_mean = measurements['NH3'].mean()\n",
    "measurements['NH3'] = measurements['NH3'].fillna(NH3_mean)\n",
    "H2CO_mean = measurements['H2CO'].mean()\n",
    "measurements['H2CO'] = measurements['H2CO'].fillna(H2CO_mean)\n",
    "SO2_mean = measurements['SO2'].mean()\n",
    "measurements['SO2'] = measurements['SO2'].fillna(SO2_mean)\n",
    "CH4_mean = measurements['CH4'].mean()\n",
    "measurements['CH4'] = measurements['CH4'].fillna(CH4_mean)\n",
    "PM10_mean = measurements['PM10'].mean()\n",
    "measurements['PM10'] = measurements['PM10'].fillna(PM10_mean)\n",
    "CFCs_mean = measurements['CFCs'].mean()\n",
    "measurements['CFCs'] = measurements['CFCs'].fillna(CFCs_mean)\n",
    "NOx_mean = measurements['NOx'].mean()\n",
    "measurements['NOx'] = measurements['NOx'].fillna(NOx_mean)"
   ]
  },
  {
   "cell_type": "markdown",
   "metadata": {},
   "source": [
    "Keďže atribút warning sme nemohli nahradiť priemernou hodnotou lebo v datasete sa viskitoval len s hodnotami 1 alebo 0\n",
    "rozhodli sme sa vypočítať priemer a zaokruhliť ho na najbližšie celé číslo a následne toto číslo doplniť do prázdnych polí."
   ]
  },
  {
   "cell_type": "code",
   "execution_count": 17,
   "metadata": {},
   "outputs": [],
   "source": [
    "warning_avg = measurements['warning'].mean()\n",
    "\n",
    "if warning_avg >= 0.5:\n",
    "    warning_avg = 1\n",
    "else:\n",
    "    warning_avg = 0\n",
    "\n",
    "measurements['warning'] = measurements['warning'].fillna(warning_avg)"
   ]
  },
  {
   "cell_type": "code",
   "execution_count": 18,
   "metadata": {},
   "outputs": [
    {
     "data": {
      "text/plain": [
       "longitude    0\n",
       "C2H3NO5      0\n",
       "O3           0\n",
       "CO           0\n",
       "warning      0\n",
       "Pb           0\n",
       "PAHs         0\n",
       "PM2.5        0\n",
       "PRES         0\n",
       "TEMP         0\n",
       "latitude     0\n",
       "NH3          0\n",
       "H2CO         0\n",
       "SO2          0\n",
       "CH4          0\n",
       "PM10         0\n",
       "CFCs         0\n",
       "NOx          0\n",
       "dtype: int64"
      ]
     },
     "execution_count": 18,
     "metadata": {},
     "output_type": "execute_result"
    }
   ],
   "source": [
    "measurements.isnull().sum()"
   ]
  },
  {
   "cell_type": "markdown",
   "metadata": {},
   "source": [
    "Atribúty z tohoto datasetu measurements.csv majú číslené hodnoty. Atribúty longitude a latitude budeme potrebovať na spojenie s datasetom stations.csv preože tieto atribúty sú spoločné. "
   ]
  },
  {
   "cell_type": "markdown",
   "metadata": {},
   "source": [
    "2.2 Identifikácia problémov v dátach s prvotným riešením v datasete stations.csv. V tomoto datasete sme našli atribút revision, ktorý nemal korektné formátovanie.  "
   ]
  },
  {
   "cell_type": "code",
   "execution_count": 19,
   "metadata": {},
   "outputs": [
    {
     "name": "stdout",
     "output_type": "stream",
     "text": [
      "Počet záznamov v datasete: 1103\n",
      "V datasete sa nachádza: 0 duplikátov.\n"
     ]
    }
   ],
   "source": [
    "duplicate = stations[stations.duplicated()]\n",
    "stations = stations.drop_duplicates()\n",
    "print(\"Počet záznamov v datasete: \"+str(len(stations)))\n",
    "print(\"V datasete sa nachádza: \" + str(len(duplicate)) + \" duplikátov.\")\n"
   ]
  },
  {
   "cell_type": "markdown",
   "metadata": {},
   "source": [
    "Zistili sme že v datasete stations.csv sa nenachádzajú žiadne duplikáty."
   ]
  },
  {
   "cell_type": "code",
   "execution_count": 40,
   "metadata": {},
   "outputs": [],
   "source": [
    "def invalidMonth(invalidMonth):\n",
    "    return {\n",
    "    'Jan': '01',\n",
    "    'Feb': '02',\n",
    "    'Mar': '03',\n",
    "    'Apr': '04',\n",
    "    'May': '05',\n",
    "    'Jun': '06',\n",
    "    'Jul': '07',\n",
    "    'Aug': '08',\n",
    "    'Sep': '09', \n",
    "    'Oct': '10',\n",
    "    'Nov': '11',\n",
    "    'Dec': '12'\n",
    "    }[invalidMonth]\n",
    "\n",
    "for x in stations['revision']:\n",
    " \n",
    " # nahradim nulovy datum \n",
    " if(len(x)==20):\n",
    "    invalidZero = x.replace(\", 00:00:00\", \"\")\n",
    "    dates = invalidZero.split(\"/\")\n",
    "    newString = dates[2] + \"-\" + dates[0] + \"-\" + dates[1]\n",
    "    stations['revision'] = stations['revision'].replace(x, newString)\n",
    " \n",
    " # nahradim lomitkovy datum\n",
    " elif(len(x)==10):\n",
    "    stations['revision'] = stations['revision'].replace(x, x.replace(\"/\", \"-\"))\n",
    "  \n",
    " # menim slovo mesiac na cislo\n",
    " elif(len(x)==11):\n",
    "    dates = x.split(\" \")\n",
    "    newString = dates[2] + \"-\" + invalidMonth(dates[1]) + \"-\" + dates[0]\n",
    "    stations['revision'] = stations['revision'].replace(x, newString)\n"
   ]
  },
  {
   "cell_type": "code",
   "execution_count": 41,
   "metadata": {},
   "outputs": [
    {
     "data": {
      "text/html": [
       "<div>\n",
       "<style scoped>\n",
       "    .dataframe tbody tr th:only-of-type {\n",
       "        vertical-align: middle;\n",
       "    }\n",
       "\n",
       "    .dataframe tbody tr th {\n",
       "        vertical-align: top;\n",
       "    }\n",
       "\n",
       "    .dataframe thead th {\n",
       "        text-align: right;\n",
       "    }\n",
       "</style>\n",
       "<table border=\"1\" class=\"dataframe\">\n",
       "  <thead>\n",
       "    <tr style=\"text-align: right;\">\n",
       "      <th></th>\n",
       "      <th>station</th>\n",
       "      <th>revision</th>\n",
       "      <th>QoS</th>\n",
       "      <th>longitude</th>\n",
       "      <th>code</th>\n",
       "      <th>latitude</th>\n",
       "    </tr>\n",
       "  </thead>\n",
       "  <tbody>\n",
       "    <tr>\n",
       "      <th>0</th>\n",
       "      <td>Barra dos Coqueiros</td>\n",
       "      <td>2020-02-07</td>\n",
       "      <td>maintenance</td>\n",
       "      <td>-37.03861</td>\n",
       "      <td>BR</td>\n",
       "      <td>-10.90889</td>\n",
       "    </tr>\n",
       "    <tr>\n",
       "      <th>1</th>\n",
       "      <td>Tyoply Stan</td>\n",
       "      <td>2018-09-13</td>\n",
       "      <td>excellent</td>\n",
       "      <td>37.49338</td>\n",
       "      <td>RU</td>\n",
       "      <td>55.62047</td>\n",
       "    </tr>\n",
       "    <tr>\n",
       "      <th>2</th>\n",
       "      <td>Leland</td>\n",
       "      <td>2019-07-09</td>\n",
       "      <td>excellent</td>\n",
       "      <td>-78.04471</td>\n",
       "      <td>US</td>\n",
       "      <td>34.25628</td>\n",
       "    </tr>\n",
       "    <tr>\n",
       "      <th>3</th>\n",
       "      <td>Hermsdorf</td>\n",
       "      <td>2022-03-15</td>\n",
       "      <td>excellent</td>\n",
       "      <td>13.31783</td>\n",
       "      <td>DE</td>\n",
       "      <td>52.61131</td>\n",
       "    </tr>\n",
       "    <tr>\n",
       "      <th>4</th>\n",
       "      <td>Ulan Bator</td>\n",
       "      <td>2016-12-26</td>\n",
       "      <td>maintenance</td>\n",
       "      <td>106.88324</td>\n",
       "      <td>MN</td>\n",
       "      <td>47.90771</td>\n",
       "    </tr>\n",
       "    <tr>\n",
       "      <th>...</th>\n",
       "      <td>...</td>\n",
       "      <td>...</td>\n",
       "      <td>...</td>\n",
       "      <td>...</td>\n",
       "      <td>...</td>\n",
       "      <td>...</td>\n",
       "    </tr>\n",
       "    <tr>\n",
       "      <th>1098</th>\n",
       "      <td>Harstad</td>\n",
       "      <td>2015-06-22</td>\n",
       "      <td>average</td>\n",
       "      <td>16.54165</td>\n",
       "      <td>NO</td>\n",
       "      <td>68.79833</td>\n",
       "    </tr>\n",
       "    <tr>\n",
       "      <th>1099</th>\n",
       "      <td>Bushey</td>\n",
       "      <td>2017-10-11</td>\n",
       "      <td>accep</td>\n",
       "      <td>-0.36053</td>\n",
       "      <td>GB</td>\n",
       "      <td>51.64316</td>\n",
       "    </tr>\n",
       "    <tr>\n",
       "      <th>1100</th>\n",
       "      <td>Pahrump</td>\n",
       "      <td>2015-07-21</td>\n",
       "      <td>maintenance</td>\n",
       "      <td>-115.98391</td>\n",
       "      <td>US</td>\n",
       "      <td>36.20829</td>\n",
       "    </tr>\n",
       "    <tr>\n",
       "      <th>1101</th>\n",
       "      <td>Saint-Genis-Laval</td>\n",
       "      <td>2021-06-18</td>\n",
       "      <td>accep</td>\n",
       "      <td>4.79340</td>\n",
       "      <td>FR</td>\n",
       "      <td>45.69558</td>\n",
       "    </tr>\n",
       "    <tr>\n",
       "      <th>1102</th>\n",
       "      <td>Jaruco</td>\n",
       "      <td>2021-04-04</td>\n",
       "      <td>accep</td>\n",
       "      <td>-82.00919</td>\n",
       "      <td>CU</td>\n",
       "      <td>23.04419</td>\n",
       "    </tr>\n",
       "  </tbody>\n",
       "</table>\n",
       "<p>1103 rows × 6 columns</p>\n",
       "</div>"
      ],
      "text/plain": [
       "                  station    revision          QoS  longitude code  latitude\n",
       "0     Barra dos Coqueiros  2020-02-07  maintenance  -37.03861   BR -10.90889\n",
       "1             Tyoply Stan  2018-09-13    excellent   37.49338   RU  55.62047\n",
       "2                  Leland  2019-07-09    excellent  -78.04471   US  34.25628\n",
       "3               Hermsdorf  2022-03-15    excellent   13.31783   DE  52.61131\n",
       "4              Ulan Bator  2016-12-26  maintenance  106.88324   MN  47.90771\n",
       "...                   ...         ...          ...        ...  ...       ...\n",
       "1098              Harstad  2015-06-22      average   16.54165   NO  68.79833\n",
       "1099               Bushey  2017-10-11        accep   -0.36053   GB  51.64316\n",
       "1100              Pahrump  2015-07-21  maintenance -115.98391   US  36.20829\n",
       "1101    Saint-Genis-Laval  2021-06-18        accep    4.79340   FR  45.69558\n",
       "1102               Jaruco  2021-04-04        accep  -82.00919   CU  23.04419\n",
       "\n",
       "[1103 rows x 6 columns]"
      ]
     },
     "execution_count": 41,
     "metadata": {},
     "output_type": "execute_result"
    }
   ],
   "source": [
    "stations"
   ]
  },
  {
   "cell_type": "markdown",
   "metadata": {},
   "source": [
    "Zistili sme, že jednotlivé dátumy sú zadávané v rôznych formátoch, preto bolo potrebné ich všetky zjednotiť do jedného. rozhodli sme sa pre formát: rok-mesiac-deň"
   ]
  },
  {
   "cell_type": "code",
   "execution_count": 55,
   "metadata": {},
   "outputs": [
    {
     "name": "stdout",
     "output_type": "stream",
     "text": [
      "['maintenance' 'excellent' 'acceptable' 'average' 'building' 'good']\n"
     ]
    }
   ],
   "source": [
    "print(stations.QoS.unique())\n"
   ]
  },
  {
   "cell_type": "code",
   "execution_count": 54,
   "metadata": {},
   "outputs": [
    {
     "name": "stdout",
     "output_type": "stream",
     "text": [
      "['BR' 'RU' 'US' 'DE' 'MN' 'ET' 'CR' 'IN' 'TR' 'DO' 'BG' 'MX' 'CN' 'RS'\n",
      " 'MG' 'BY' 'SK' 'JP' 'PH' 'YE' 'AU' 'AZ' 'PK' 'TH' 'HR' 'GB' 'CA' 'NG'\n",
      " 'CU' 'LY' 'CO' 'IR' 'MY' 'BE' 'PL' 'DZ' 'EE' 'UA' 'FR' 'TL' 'JM' 'EG'\n",
      " 'KZ' 'VE' 'GH' 'TZ' 'LT' 'EC' 'ES' 'UZ' 'IT' 'ID' 'AR' 'CD' 'MM' 'PR'\n",
      " 'TN' 'KR' 'NO' 'UY' 'PA' 'GM' 'PT' 'SV' 'NL' 'PG' 'PE' 'DK' 'LK' 'CZ'\n",
      " 'AD' 'AT' 'MK' 'KH' 'BW' 'XK' 'CG' 'CM' 'RW' 'BA' 'IL' 'MA' 'MT' 'UG'\n",
      " 'IE' 'KE' 'HT' 'AF' 'TJ' 'CH' 'SL' 'SY' 'GT' 'ZA' 'CL' 'SA' 'CF' 'BO'\n",
      " 'AM' 'TT' 'BD' 'DJ' 'GA' 'SD' 'SE' 'VN' 'CI' 'MQ' 'GN' 'KG' 'RO' 'VU'\n",
      " 'TW' 'RE' 'NZ' 'FI']\n"
     ]
    }
   ],
   "source": [
    "print(stations.code.unique())"
   ]
  },
  {
   "cell_type": "markdown",
   "metadata": {},
   "source": [
    "Ďalej sme hľadali gramatické chyby v stĺpcoch QoS a code. Zistili sme, že v stĺpci QoS sa nachádzajú gramatické chyby. ktoré je treba opraviť."
   ]
  },
  {
   "cell_type": "code",
   "execution_count": 56,
   "metadata": {},
   "outputs": [],
   "source": [
    "stations['QoS'] = stations['QoS'].astype(str).str.replace('maitennce',\"maintenance\")\n",
    "stations['QoS'] = stations['QoS'].astype(str).str.replace('accep',\"acceptable\")\n",
    "stations['QoS'] = stations['QoS'].astype(str).str.replace('acceptabletabletable',\"acceptable\")\n",
    "stations['QoS'] = stations['QoS'].astype(str).str.replace('acceptabletable',\"acceptable\")"
   ]
  },
  {
   "cell_type": "code",
   "execution_count": 57,
   "metadata": {},
   "outputs": [
    {
     "name": "stdout",
     "output_type": "stream",
     "text": [
      "['maintenance' 'excellent' 'acceptable' 'average' 'building' 'good']\n"
     ]
    }
   ],
   "source": [
    "print(stations.QoS.unique())"
   ]
  }
 ],
 "metadata": {
  "kernelspec": {
   "display_name": "Python 3.10.0 64-bit",
   "language": "python",
   "name": "python3"
  },
  "language_info": {
   "codemirror_mode": {
    "name": "ipython",
    "version": 3
   },
   "file_extension": ".py",
   "mimetype": "text/x-python",
   "name": "python",
   "nbconvert_exporter": "python",
   "pygments_lexer": "ipython3",
   "version": "3.10.0"
  },
  "orig_nbformat": 4,
  "vscode": {
   "interpreter": {
    "hash": "e01f98c1efd1268bedfeafc745a32ce1740c9ed588db6de697bb135db4ef3f8f"
   }
  }
 },
 "nbformat": 4,
 "nbformat_minor": 2
}
