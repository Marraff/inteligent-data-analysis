{
 "cells": [
  {
   "cell_type": "markdown",
   "metadata": {},
   "source": [
    "# IAU Projekt 2. fáza\n",
    "\n",
    "### Autori: Martin Raffáč (50%), Tibor Vanek (50%)\n",
    "\n",
    "dataset číslo **003**"
   ]
  },
  {
   "cell_type": "code",
   "execution_count": 3,
   "metadata": {},
   "outputs": [],
   "source": [
    "import pandas as pd\n",
    "import numpy as np\n",
    "from sklearn.metrics import confusion_matrix, classification_report\n",
    "from sklearn.model_selection import GridSearchCV\n",
    "from sklearn.tree import DecisionTreeClassifier\n",
    "from sklearn import tree, metrics\n",
    "from pandas import read_csv\n",
    "import seaborn as sns\n",
    "from matplotlib import pyplot as plt\n",
    "from scipy import stats\n",
    "from sklearn.model_selection import RandomizedSearchCV\n",
    "from matplotlib import pyplot\n",
    "import os\n",
    "#import graphviz \n",
    "#import pydot\n",
    "from IPython.display import Image\n",
    "from sklearn.metrics import accuracy_score\n",
    "from sklearn.metrics import precision_score\n",
    "from sklearn.metrics import recall_score\n",
    "from sklearn.model_selection import train_test_split\n",
    "from sklearn.ensemble import RandomForestClassifier\n",
    "from sklearn.model_selection import GridSearchCV\n",
    "from sklearn.metrics import accuracy_score\n",
    "from sklearn.model_selection import validation_curve\n",
    "from sklearn.datasets import make_friedman1\n",
    "from sklearn.feature_selection import RFE\n",
    "from sklearn.svm import SVR\n",
    "from sklearn.feature_selection import VarianceThreshold"
   ]
  },
  {
   "cell_type": "code",
   "execution_count": 4,
   "metadata": {},
   "outputs": [],
   "source": [
    "\n",
    "train_data = pd.read_csv(\"num_data.csv\", sep=',')"
   ]
  },
  {
   "cell_type": "markdown",
   "metadata": {},
   "source": [
    "Náčítanie trénovacích dát."
   ]
  },
  {
   "cell_type": "code",
   "execution_count": 16,
   "metadata": {},
   "outputs": [],
   "source": [
    "data_for_oneR = train_data.copy()"
   ]
  },
  {
   "cell_type": "markdown",
   "metadata": {},
   "source": [
    "1. Jednoduchý klasifikátor na základe závislosti v dátach "
   ]
  },
  {
   "cell_type": "code",
   "execution_count": 46,
   "metadata": {},
   "outputs": [],
   "source": [
    "def oneR(column):\n",
    "\n",
    "    split = (data_for_oneR[column][data_for_oneR['warning'] == 0].mean() + data_for_oneR[column][data_for_oneR['warning'] == 1].mean())/2\n",
    "    group = data_for_oneR[data_for_oneR[column] > split]\n",
    "    group = group.groupby('warning').size()\n",
    "\n",
    "    if group[0] > group[1]:\n",
    "        left = 1\n",
    "        right = 0\n",
    "    else:\n",
    "        left = 0\n",
    "        right = 1\n",
    "        \n",
    "    predict = {\"split\": split, \"left\": left, \"right\": right}\n",
    "    \n",
    "    data_for_oneR.loc[data_for_oneR[column] < predict[\"split\"], 'helper'] = predict[\"left\"]\n",
    "    data_for_oneR.loc[data_for_oneR[column] >= predict[\"split\"], 'helper'] = predict[\"right\"]\n",
    "    accuracy = accuracy_score(data_for_oneR['warning'], data_for_oneR['helper'])\n",
    "    precision = precision_score(data_for_oneR['warning'], data_for_oneR['helper'])\n",
    "    recall = recall_score(data_for_oneR['warning'], data_for_oneR['helper'])\n",
    "    total=(accuracy + precision + recall) / 3\n",
    "    data_for_oneR.drop('helper', axis=1, inplace=True)\n",
    "\n",
    "    return {\"accuracy\": accuracy, \"precision\": precision, \"recall\": recall ,\"total\": total}"
   ]
  },
  {
   "cell_type": "code",
   "execution_count": 47,
   "metadata": {},
   "outputs": [
    {
     "name": "stdout",
     "output_type": "stream",
     "text": [
      "best oneR: PAHs\n",
      "total_score: 0.8234555012157715\n",
      "accuracy_score: 0.8037125988191735\n",
      "precision_score: 0.857682841068917\n",
      "recall_score: 0.8089710637592239\n"
     ]
    }
   ],
   "source": [
    "accuracy = 0 \n",
    "columns =  data_for_oneR.columns\n",
    "\n",
    "for i in columns:\n",
    "    if i == 'warning':\n",
    "        continue\n",
    "\n",
    "    data_oneR = oneR(i)\n",
    "    \n",
    "    if data_oneR[\"total\"] > accuracy:\n",
    "        best = i\n",
    "        accuracy = data_oneR[\"total\"]\n",
    "        best_column = data_oneR\n",
    "        \n",
    "print('best oneR: ' + best)\n",
    "print('total_score: ' + str(best_column[\"total\"]))\n",
    "print('accuracy_score: ' + str(best_column[\"accuracy\"]))\n",
    "print('precision_score: ' + str(best_column[\"precision\"]))\n",
    "print('recall_score: ' + str(best_column[\"recall\"]))"
   ]
  },
  {
   "cell_type": "markdown",
   "metadata": {},
   "source": [
    "Podľa zadania sme zhotovili jednoduchý algoritmus oneR, ktorý sme vložili do funkcie. Následne sme ho vyskúšali na trénovacom datasete, predpokladali sme, že najlepší výsledok dosiahne atrihút PAHs, pretože má najviššiu koreláciu s atribútom warning. Ako je možné vidieť vyššie naše predpoklady sa naplinili.  "
   ]
  }
 ],
 "metadata": {
  "kernelspec": {
   "display_name": "Python 3.10.0 64-bit",
   "language": "python",
   "name": "python3"
  },
  "language_info": {
   "codemirror_mode": {
    "name": "ipython",
    "version": 3
   },
   "file_extension": ".py",
   "mimetype": "text/x-python",
   "name": "python",
   "nbconvert_exporter": "python",
   "pygments_lexer": "ipython3",
   "version": "3.10.0"
  },
  "orig_nbformat": 4,
  "vscode": {
   "interpreter": {
    "hash": "e01f98c1efd1268bedfeafc745a32ce1740c9ed588db6de697bb135db4ef3f8f"
   }
  }
 },
 "nbformat": 4,
 "nbformat_minor": 2
}
