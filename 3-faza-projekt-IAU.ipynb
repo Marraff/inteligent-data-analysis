{
 "cells": [
  {
   "cell_type": "markdown",
   "metadata": {},
   "source": [
    "# IAU Projekt 3. fáza\n",
    "\n",
    "### Autori: Martin Raffáč (50%), Tibor Vanek (50%)\n",
    "\n",
    "dataset číslo **003**"
   ]
  },
  {
   "cell_type": "code",
   "execution_count": 1,
   "metadata": {},
   "outputs": [],
   "source": [
    "import pandas as pd\n",
    "import numpy as np\n",
    "from sklearn.metrics import confusion_matrix, classification_report\n",
    "from sklearn.model_selection import GridSearchCV\n",
    "from sklearn.tree import DecisionTreeClassifier\n",
    "from sklearn import tree, metrics\n",
    "from pandas import read_csv\n",
    "import seaborn as sns\n",
    "from matplotlib import pyplot as plt\n",
    "from scipy import stats\n",
    "from sklearn.model_selection import RandomizedSearchCV\n",
    "from matplotlib import pyplot\n",
    "import os\n",
    "#import graphviz \n",
    "#import pydot\n",
    "from IPython.display import Image\n",
    "from sklearn.metrics import accuracy_score\n",
    "from sklearn.metrics import precision_score\n",
    "from sklearn.metrics import recall_score\n",
    "from sklearn.model_selection import train_test_split\n",
    "from sklearn.ensemble import RandomForestClassifier\n",
    "from sklearn.model_selection import GridSearchCV\n",
    "from sklearn.metrics import accuracy_score\n",
    "from sklearn.model_selection import validation_curve\n",
    "from sklearn.datasets import make_friedman1\n",
    "from sklearn.feature_selection import RFE\n",
    "from sklearn.svm import SVR\n",
    "from sklearn.feature_selection import VarianceThreshold"
   ]
  },
  {
   "cell_type": "code",
   "execution_count": 2,
   "metadata": {},
   "outputs": [],
   "source": [
    "train_data = pd.read_csv(\"num_data.csv\", sep=',')\n",
    "test_data = pd.read_csv(\"test_data.csv\", sep=',')"
   ]
  },
  {
   "cell_type": "markdown",
   "metadata": {},
   "source": [
    "Náčítanie trénovacích dát."
   ]
  },
  {
   "cell_type": "code",
   "execution_count": 3,
   "metadata": {},
   "outputs": [],
   "source": [
    "data_for_oneR = train_data.copy()"
   ]
  },
  {
   "cell_type": "markdown",
   "metadata": {},
   "source": [
    "## 1. Jednoduchý klasifikátor na základe závislosti v dátach "
   ]
  },
  {
   "cell_type": "code",
   "execution_count": 4,
   "metadata": {},
   "outputs": [],
   "source": [
    "def oneR(column):\n",
    "\n",
    "    split = (data_for_oneR[column][data_for_oneR['warning'] == 0].mean() + data_for_oneR[column][data_for_oneR['warning'] == 1].mean())/2\n",
    "    group = data_for_oneR[data_for_oneR[column] > split]\n",
    "    group = group.groupby('warning').size()\n",
    "\n",
    "    if group[0] > group[1]:\n",
    "        left = 1\n",
    "        right = 0\n",
    "    else:\n",
    "        left = 0\n",
    "        right = 1\n",
    "        \n",
    "    predict = {\"split\": split, \"left\": left, \"right\": right}\n",
    "    \n",
    "    data_for_oneR.loc[data_for_oneR[column] < predict[\"split\"], 'helper'] = predict[\"left\"]\n",
    "    data_for_oneR.loc[data_for_oneR[column] >= predict[\"split\"], 'helper'] = predict[\"right\"]\n",
    "    accuracy = accuracy_score(data_for_oneR['warning'], data_for_oneR['helper'])\n",
    "    precision = precision_score(data_for_oneR['warning'], data_for_oneR['helper'])\n",
    "    recall = recall_score(data_for_oneR['warning'], data_for_oneR['helper'])\n",
    "    total=(accuracy + precision + recall) / 3\n",
    "    data_for_oneR.drop('helper', axis=1, inplace=True)\n",
    "\n",
    "    return {\"accuracy\": accuracy, \"precision\": precision, \"recall\": recall ,\"total\": total}"
   ]
  },
  {
   "cell_type": "code",
   "execution_count": 5,
   "metadata": {},
   "outputs": [
    {
     "name": "stdout",
     "output_type": "stream",
     "text": [
      "best oneR: PAHs\n",
      "total_score: 0.8234555012157715\n",
      "accuracy_score: 0.8037125988191735\n",
      "precision_score: 0.857682841068917\n",
      "recall_score: 0.8089710637592239\n"
     ]
    }
   ],
   "source": [
    "accuracy = 0 \n",
    "columns =  data_for_oneR.columns\n",
    "\n",
    "for i in columns:\n",
    "    if i == 'warning':\n",
    "        continue\n",
    "\n",
    "    data_oneR = oneR(i)\n",
    "    \n",
    "    if data_oneR[\"total\"] > accuracy:\n",
    "        best = i\n",
    "        accuracy = data_oneR[\"total\"]\n",
    "        best_column = data_oneR\n",
    "        \n",
    "print('best oneR: ' + best)\n",
    "print('total_score: ' + str(best_column[\"total\"]))\n",
    "print('accuracy_score: ' + str(best_column[\"accuracy\"]))\n",
    "print('precision_score: ' + str(best_column[\"precision\"]))\n",
    "print('recall_score: ' + str(best_column[\"recall\"]))"
   ]
  },
  {
   "cell_type": "markdown",
   "metadata": {},
   "source": [
    "Podľa zadania sme zhotovili jednoduchý algoritmus oneR, ktorý sme vložili do funkcie. Následne sme ho vyskúšali na trénovacom datasete, predpokladali sme, že najlepší výsledok dosiahne atrihút PAHs, pretože má najviššiu koreláciu s atribútom warning. Ako je možné vidieť vyššie naše predpoklady sa naplinili.  "
   ]
  },
  {
   "cell_type": "markdown",
   "metadata": {},
   "source": [
    "## 2. Trénovanie a vyhodnotenie klasifikátorov strojového učenia"
   ]
  },
  {
   "cell_type": "code",
   "execution_count": 6,
   "metadata": {},
   "outputs": [],
   "source": [
    "# treba trochu precistit dataset\n",
    "train_data.drop([\"Unnamed: 0\"], axis= \"columns\", inplace = True)\n",
    "test_data.drop([\"Unnamed: 0\", \"station\", \"QoS\", \"code\", \"revision\"], axis= \"columns\", inplace = True)"
   ]
  },
  {
   "cell_type": "markdown",
   "metadata": {},
   "source": [
    "### <font color = \"red\"> ^ neviem ci to mozeme dropnut ale so stringami nefungoval decision tree classifier </font>"
   ]
  },
  {
   "cell_type": "code",
   "execution_count": 7,
   "metadata": {},
   "outputs": [
    {
     "data": {
      "text/html": [
       "<div>\n",
       "<style scoped>\n",
       "    .dataframe tbody tr th:only-of-type {\n",
       "        vertical-align: middle;\n",
       "    }\n",
       "\n",
       "    .dataframe tbody tr th {\n",
       "        vertical-align: top;\n",
       "    }\n",
       "\n",
       "    .dataframe thead th {\n",
       "        text-align: right;\n",
       "    }\n",
       "</style>\n",
       "<table border=\"1\" class=\"dataframe\">\n",
       "  <thead>\n",
       "    <tr style=\"text-align: right;\">\n",
       "      <th></th>\n",
       "      <th>longitude</th>\n",
       "      <th>C2H3NO5</th>\n",
       "      <th>O3</th>\n",
       "      <th>CO</th>\n",
       "      <th>warning</th>\n",
       "      <th>Pb</th>\n",
       "      <th>PAHs</th>\n",
       "      <th>PM2.5</th>\n",
       "      <th>PRES</th>\n",
       "      <th>TEMP</th>\n",
       "      <th>latitude</th>\n",
       "      <th>NH3</th>\n",
       "      <th>H2CO</th>\n",
       "      <th>SO2</th>\n",
       "      <th>CH4</th>\n",
       "      <th>PM10</th>\n",
       "      <th>CFCs</th>\n",
       "      <th>NOx</th>\n",
       "    </tr>\n",
       "  </thead>\n",
       "  <tbody>\n",
       "    <tr>\n",
       "      <th>0</th>\n",
       "      <td>24.71204</td>\n",
       "      <td>1.070252</td>\n",
       "      <td>-1.238620</td>\n",
       "      <td>1.959980</td>\n",
       "      <td>0.0</td>\n",
       "      <td>1.721996</td>\n",
       "      <td>-0.092043</td>\n",
       "      <td>0.448304</td>\n",
       "      <td>1122.65351</td>\n",
       "      <td>1.764982</td>\n",
       "      <td>41.57439</td>\n",
       "      <td>1.117308</td>\n",
       "      <td>0.869652</td>\n",
       "      <td>-1.940827</td>\n",
       "      <td>-0.598728</td>\n",
       "      <td>0.095732</td>\n",
       "      <td>-0.830261</td>\n",
       "      <td>-0.721449</td>\n",
       "    </tr>\n",
       "    <tr>\n",
       "      <th>1</th>\n",
       "      <td>4.82313</td>\n",
       "      <td>0.578681</td>\n",
       "      <td>0.485670</td>\n",
       "      <td>-2.092726</td>\n",
       "      <td>1.0</td>\n",
       "      <td>-0.575596</td>\n",
       "      <td>0.119173</td>\n",
       "      <td>-0.232674</td>\n",
       "      <td>1179.09201</td>\n",
       "      <td>-1.085262</td>\n",
       "      <td>51.24197</td>\n",
       "      <td>0.693448</td>\n",
       "      <td>0.943992</td>\n",
       "      <td>2.040075</td>\n",
       "      <td>-0.444039</td>\n",
       "      <td>0.680288</td>\n",
       "      <td>-0.288815</td>\n",
       "      <td>-0.057048</td>\n",
       "    </tr>\n",
       "    <tr>\n",
       "      <th>2</th>\n",
       "      <td>-56.52361</td>\n",
       "      <td>0.371154</td>\n",
       "      <td>-0.056290</td>\n",
       "      <td>0.060240</td>\n",
       "      <td>1.0</td>\n",
       "      <td>1.651889</td>\n",
       "      <td>1.379517</td>\n",
       "      <td>-1.280428</td>\n",
       "      <td>1126.88498</td>\n",
       "      <td>-0.269432</td>\n",
       "      <td>-33.38056</td>\n",
       "      <td>0.465891</td>\n",
       "      <td>-0.539478</td>\n",
       "      <td>1.243666</td>\n",
       "      <td>-0.548210</td>\n",
       "      <td>0.408908</td>\n",
       "      <td>1.053929</td>\n",
       "      <td>1.299415</td>\n",
       "    </tr>\n",
       "    <tr>\n",
       "      <th>3</th>\n",
       "      <td>37.38115</td>\n",
       "      <td>-0.003663</td>\n",
       "      <td>0.977303</td>\n",
       "      <td>0.946749</td>\n",
       "      <td>1.0</td>\n",
       "      <td>0.261248</td>\n",
       "      <td>-0.404670</td>\n",
       "      <td>-0.900826</td>\n",
       "      <td>1117.28353</td>\n",
       "      <td>-0.918316</td>\n",
       "      <td>55.63711</td>\n",
       "      <td>0.762944</td>\n",
       "      <td>-0.369243</td>\n",
       "      <td>0.435193</td>\n",
       "      <td>0.381526</td>\n",
       "      <td>0.133697</td>\n",
       "      <td>0.860512</td>\n",
       "      <td>-0.587729</td>\n",
       "    </tr>\n",
       "    <tr>\n",
       "      <th>4</th>\n",
       "      <td>43.23790</td>\n",
       "      <td>1.455815</td>\n",
       "      <td>1.644195</td>\n",
       "      <td>1.158715</td>\n",
       "      <td>0.0</td>\n",
       "      <td>-0.471272</td>\n",
       "      <td>-1.816661</td>\n",
       "      <td>-0.465624</td>\n",
       "      <td>1106.68396</td>\n",
       "      <td>0.290596</td>\n",
       "      <td>50.06000</td>\n",
       "      <td>0.690615</td>\n",
       "      <td>0.885281</td>\n",
       "      <td>-0.446552</td>\n",
       "      <td>0.452009</td>\n",
       "      <td>1.535017</td>\n",
       "      <td>-0.535383</td>\n",
       "      <td>0.501325</td>\n",
       "    </tr>\n",
       "  </tbody>\n",
       "</table>\n",
       "</div>"
      ],
      "text/plain": [
       "   longitude   C2H3NO5        O3        CO  warning        Pb      PAHs  \\\n",
       "0   24.71204  1.070252 -1.238620  1.959980      0.0  1.721996 -0.092043   \n",
       "1    4.82313  0.578681  0.485670 -2.092726      1.0 -0.575596  0.119173   \n",
       "2  -56.52361  0.371154 -0.056290  0.060240      1.0  1.651889  1.379517   \n",
       "3   37.38115 -0.003663  0.977303  0.946749      1.0  0.261248 -0.404670   \n",
       "4   43.23790  1.455815  1.644195  1.158715      0.0 -0.471272 -1.816661   \n",
       "\n",
       "      PM2.5        PRES      TEMP  latitude       NH3      H2CO       SO2  \\\n",
       "0  0.448304  1122.65351  1.764982  41.57439  1.117308  0.869652 -1.940827   \n",
       "1 -0.232674  1179.09201 -1.085262  51.24197  0.693448  0.943992  2.040075   \n",
       "2 -1.280428  1126.88498 -0.269432 -33.38056  0.465891 -0.539478  1.243666   \n",
       "3 -0.900826  1117.28353 -0.918316  55.63711  0.762944 -0.369243  0.435193   \n",
       "4 -0.465624  1106.68396  0.290596  50.06000  0.690615  0.885281 -0.446552   \n",
       "\n",
       "        CH4      PM10      CFCs       NOx  \n",
       "0 -0.598728  0.095732 -0.830261 -0.721449  \n",
       "1 -0.444039  0.680288 -0.288815 -0.057048  \n",
       "2 -0.548210  0.408908  1.053929  1.299415  \n",
       "3  0.381526  0.133697  0.860512 -0.587729  \n",
       "4  0.452009  1.535017 -0.535383  0.501325  "
      ]
     },
     "execution_count": 7,
     "metadata": {},
     "output_type": "execute_result"
    }
   ],
   "source": [
    "train_data.head()"
   ]
  },
  {
   "cell_type": "code",
   "execution_count": 8,
   "metadata": {},
   "outputs": [
    {
     "data": {
      "text/html": [
       "<div>\n",
       "<style scoped>\n",
       "    .dataframe tbody tr th:only-of-type {\n",
       "        vertical-align: middle;\n",
       "    }\n",
       "\n",
       "    .dataframe tbody tr th {\n",
       "        vertical-align: top;\n",
       "    }\n",
       "\n",
       "    .dataframe thead th {\n",
       "        text-align: right;\n",
       "    }\n",
       "</style>\n",
       "<table border=\"1\" class=\"dataframe\">\n",
       "  <thead>\n",
       "    <tr style=\"text-align: right;\">\n",
       "      <th></th>\n",
       "      <th>longitude</th>\n",
       "      <th>C2H3NO5</th>\n",
       "      <th>O3</th>\n",
       "      <th>CO</th>\n",
       "      <th>warning</th>\n",
       "      <th>Pb</th>\n",
       "      <th>PAHs</th>\n",
       "      <th>PM2.5</th>\n",
       "      <th>PRES</th>\n",
       "      <th>TEMP</th>\n",
       "      <th>latitude</th>\n",
       "      <th>NH3</th>\n",
       "      <th>H2CO</th>\n",
       "      <th>SO2</th>\n",
       "      <th>CH4</th>\n",
       "      <th>PM10</th>\n",
       "      <th>CFCs</th>\n",
       "      <th>NOx</th>\n",
       "    </tr>\n",
       "  </thead>\n",
       "  <tbody>\n",
       "    <tr>\n",
       "      <th>0</th>\n",
       "      <td>-76.72803</td>\n",
       "      <td>0.034080</td>\n",
       "      <td>8.86027</td>\n",
       "      <td>8.866800</td>\n",
       "      <td>1.0</td>\n",
       "      <td>49.91558</td>\n",
       "      <td>8.64479</td>\n",
       "      <td>8.35431</td>\n",
       "      <td>1137.925500</td>\n",
       "      <td>2.09734</td>\n",
       "      <td>39.32288</td>\n",
       "      <td>10.38681</td>\n",
       "      <td>25.77306</td>\n",
       "      <td>10.40514</td>\n",
       "      <td>8.69823</td>\n",
       "      <td>6.936440</td>\n",
       "      <td>44.98104</td>\n",
       "      <td>6.90200</td>\n",
       "    </tr>\n",
       "    <tr>\n",
       "      <th>1</th>\n",
       "      <td>74.83554</td>\n",
       "      <td>0.162671</td>\n",
       "      <td>9.19179</td>\n",
       "      <td>7.196330</td>\n",
       "      <td>0.0</td>\n",
       "      <td>54.01509</td>\n",
       "      <td>5.45514</td>\n",
       "      <td>9.36486</td>\n",
       "      <td>1115.100240</td>\n",
       "      <td>16.16098</td>\n",
       "      <td>14.62072</td>\n",
       "      <td>7.33226</td>\n",
       "      <td>30.70238</td>\n",
       "      <td>7.78304</td>\n",
       "      <td>6.66323</td>\n",
       "      <td>7.428166</td>\n",
       "      <td>49.29094</td>\n",
       "      <td>7.09370</td>\n",
       "    </tr>\n",
       "    <tr>\n",
       "      <th>2</th>\n",
       "      <td>-3.05814</td>\n",
       "      <td>0.154050</td>\n",
       "      <td>9.29043</td>\n",
       "      <td>7.056980</td>\n",
       "      <td>0.0</td>\n",
       "      <td>50.56311</td>\n",
       "      <td>7.25193</td>\n",
       "      <td>9.46052</td>\n",
       "      <td>1120.887250</td>\n",
       "      <td>6.09876</td>\n",
       "      <td>53.00974</td>\n",
       "      <td>6.10828</td>\n",
       "      <td>51.19238</td>\n",
       "      <td>7.26165</td>\n",
       "      <td>6.41923</td>\n",
       "      <td>9.143780</td>\n",
       "      <td>55.31251</td>\n",
       "      <td>6.49570</td>\n",
       "    </tr>\n",
       "    <tr>\n",
       "      <th>3</th>\n",
       "      <td>10.03988</td>\n",
       "      <td>0.030910</td>\n",
       "      <td>8.71918</td>\n",
       "      <td>8.669590</td>\n",
       "      <td>0.0</td>\n",
       "      <td>58.40231</td>\n",
       "      <td>6.54822</td>\n",
       "      <td>8.37049</td>\n",
       "      <td>1129.741470</td>\n",
       "      <td>18.32487</td>\n",
       "      <td>53.60520</td>\n",
       "      <td>6.59860</td>\n",
       "      <td>40.41077</td>\n",
       "      <td>10.87272</td>\n",
       "      <td>6.33447</td>\n",
       "      <td>6.847320</td>\n",
       "      <td>32.52839</td>\n",
       "      <td>9.36406</td>\n",
       "    </tr>\n",
       "    <tr>\n",
       "      <th>4</th>\n",
       "      <td>-116.56346</td>\n",
       "      <td>0.038010</td>\n",
       "      <td>5.88474</td>\n",
       "      <td>8.222016</td>\n",
       "      <td>1.0</td>\n",
       "      <td>54.93329</td>\n",
       "      <td>8.43879</td>\n",
       "      <td>7.85637</td>\n",
       "      <td>1124.957487</td>\n",
       "      <td>30.11868</td>\n",
       "      <td>43.54072</td>\n",
       "      <td>9.20000</td>\n",
       "      <td>46.81541</td>\n",
       "      <td>9.78392</td>\n",
       "      <td>10.07961</td>\n",
       "      <td>7.327750</td>\n",
       "      <td>46.76573</td>\n",
       "      <td>6.01282</td>\n",
       "    </tr>\n",
       "  </tbody>\n",
       "</table>\n",
       "</div>"
      ],
      "text/plain": [
       "   longitude   C2H3NO5       O3        CO  warning        Pb     PAHs  \\\n",
       "0  -76.72803  0.034080  8.86027  8.866800      1.0  49.91558  8.64479   \n",
       "1   74.83554  0.162671  9.19179  7.196330      0.0  54.01509  5.45514   \n",
       "2   -3.05814  0.154050  9.29043  7.056980      0.0  50.56311  7.25193   \n",
       "3   10.03988  0.030910  8.71918  8.669590      0.0  58.40231  6.54822   \n",
       "4 -116.56346  0.038010  5.88474  8.222016      1.0  54.93329  8.43879   \n",
       "\n",
       "     PM2.5         PRES      TEMP  latitude       NH3      H2CO       SO2  \\\n",
       "0  8.35431  1137.925500   2.09734  39.32288  10.38681  25.77306  10.40514   \n",
       "1  9.36486  1115.100240  16.16098  14.62072   7.33226  30.70238   7.78304   \n",
       "2  9.46052  1120.887250   6.09876  53.00974   6.10828  51.19238   7.26165   \n",
       "3  8.37049  1129.741470  18.32487  53.60520   6.59860  40.41077  10.87272   \n",
       "4  7.85637  1124.957487  30.11868  43.54072   9.20000  46.81541   9.78392   \n",
       "\n",
       "        CH4      PM10      CFCs      NOx  \n",
       "0   8.69823  6.936440  44.98104  6.90200  \n",
       "1   6.66323  7.428166  49.29094  7.09370  \n",
       "2   6.41923  9.143780  55.31251  6.49570  \n",
       "3   6.33447  6.847320  32.52839  9.36406  \n",
       "4  10.07961  7.327750  46.76573  6.01282  "
      ]
     },
     "execution_count": 8,
     "metadata": {},
     "output_type": "execute_result"
    }
   ],
   "source": [
    "test_data.head()"
   ]
  },
  {
   "cell_type": "markdown",
   "metadata": {},
   "source": [
    "Stĺpec warning si oddelíme od datasetu do samostatných premenných"
   ]
  },
  {
   "cell_type": "code",
   "execution_count": 28,
   "metadata": {},
   "outputs": [],
   "source": [
    "train_target = train_data[\"warning\"]\n",
    "test_target = test_data[\"warning\"]\n",
    "\n",
    "use_train_data = train_data.drop(['warning'], axis = \"columns\")\n",
    "use_test_data = test_data.drop(['warning'], axis = \"columns\")"
   ]
  },
  {
   "cell_type": "code",
   "execution_count": 29,
   "metadata": {},
   "outputs": [
    {
     "name": "stdout",
     "output_type": "stream",
     "text": [
      "Score:  0.407444466680008\n"
     ]
    }
   ],
   "source": [
    "dtf = tree.DecisionTreeClassifier()\n",
    "dtf.fit(use_train_data, train_target)\n",
    "prediction = dtf.predict(use_test_data)\n",
    "print(\"Score: \", dtf.score(use_test_data, test_target))"
   ]
  },
  {
   "cell_type": "markdown",
   "metadata": {},
   "source": [
    "^ neviem preco je to tak low"
   ]
  },
  {
   "cell_type": "code",
   "execution_count": 11,
   "metadata": {},
   "outputs": [
    {
     "name": "stdout",
     "output_type": "stream",
     "text": [
      "              precision    recall  f1-score   support\n",
      "\n",
      "           0       0.41      1.00      0.58      2036\n",
      "           1       0.00      0.00      0.00      2961\n",
      "\n",
      "    accuracy                           0.41      4997\n",
      "   macro avg       0.20      0.50      0.29      4997\n",
      "weighted avg       0.17      0.41      0.24      4997\n",
      "\n"
     ]
    },
    {
     "name": "stderr",
     "output_type": "stream",
     "text": [
      "c:\\Users\\mraff\\AppData\\Local\\Programs\\Python\\Python310\\lib\\site-packages\\sklearn\\metrics\\_classification.py:1334: UndefinedMetricWarning: Precision and F-score are ill-defined and being set to 0.0 in labels with no predicted samples. Use `zero_division` parameter to control this behavior.\n",
      "  _warn_prf(average, modifier, msg_start, len(result))\n",
      "c:\\Users\\mraff\\AppData\\Local\\Programs\\Python\\Python310\\lib\\site-packages\\sklearn\\metrics\\_classification.py:1334: UndefinedMetricWarning: Precision and F-score are ill-defined and being set to 0.0 in labels with no predicted samples. Use `zero_division` parameter to control this behavior.\n",
      "  _warn_prf(average, modifier, msg_start, len(result))\n",
      "c:\\Users\\mraff\\AppData\\Local\\Programs\\Python\\Python310\\lib\\site-packages\\sklearn\\metrics\\_classification.py:1334: UndefinedMetricWarning: Precision and F-score are ill-defined and being set to 0.0 in labels with no predicted samples. Use `zero_division` parameter to control this behavior.\n",
      "  _warn_prf(average, modifier, msg_start, len(result))\n"
     ]
    }
   ],
   "source": [
    "print(classification_report(test_target, prediction, target_names = [\"0\",\"1\"]))"
   ]
  },
  {
   "cell_type": "code",
   "execution_count": 12,
   "metadata": {},
   "outputs": [],
   "source": [
    "# graphviz nefungoval, toto je prilis velky obrazok\n",
    "#fig = plt.figure(figsize = (15, 20))\n",
    "#_ = tree.plot_tree(dtf, feature_names = use_test_data.columns, class_names = [\"1\",\"0\"], filled = True)\n",
    "#fig.savefig(\"strom.png\")"
   ]
  },
  {
   "attachments": {},
   "cell_type": "markdown",
   "metadata": {},
   "source": [
    "3. Optimalizácia alias hyperparameter tuning"
   ]
  },
  {
   "attachments": {},
   "cell_type": "markdown",
   "metadata": {},
   "source": [
    "Preskúmanie hyperparametrov\n",
    "\n",
    "1. criterion je funkcia, ktorá meria kvalitu rozdelenia. Obsahuje hodnoty gini a entropy\n",
    "\n",
    "2. splitter je stratégia rozdelenia, ktorá sa používa na všetkých uzloch stromu. využíva stratégie best a random.\n",
    "\n",
    "3. max_depth je maximalna hĺbka stromu.\n",
    "\n",
    "4. max_features charakterizuje počet stĺpcov, ktoré sa berú na vedomie pri hľadaní najlepšieho rozdelenia. Do max_depth a max_features sme vložili rozsah hodnôt."
   ]
  },
  {
   "cell_type": "code",
   "execution_count": 31,
   "metadata": {},
   "outputs": [],
   "source": [
    "parameters = {'criterion': ('gini','entropy'), 'splitter': ('best','random'), 'max_features':range(1,20,1)}\n",
    "optimization = GridSearchCV(dtf, parameters,cv=10,scoring=\"accuracy\")\n",
    "result = optimization.fit(use_train_data, train_target)"
   ]
  },
  {
   "attachments": {},
   "cell_type": "markdown",
   "metadata": {},
   "source": [
    "Na vytvorenie modelu pre všetky kombinácie sme využili metódu GridSearchCV() "
   ]
  },
  {
   "cell_type": "code",
   "execution_count": 32,
   "metadata": {},
   "outputs": [
    {
     "data": {
      "text/plain": [
       "{'criterion': 'entropy', 'max_features': 18, 'splitter': 'best'}"
      ]
     },
     "execution_count": 32,
     "metadata": {},
     "output_type": "execute_result"
    }
   ],
   "source": [
    "params = optimization.best_params_\n",
    "params"
   ]
  },
  {
   "cell_type": "code",
   "execution_count": 37,
   "metadata": {},
   "outputs": [
    {
     "data": {
      "text/html": [
       "<div>\n",
       "<style scoped>\n",
       "    .dataframe tbody tr th:only-of-type {\n",
       "        vertical-align: middle;\n",
       "    }\n",
       "\n",
       "    .dataframe tbody tr th {\n",
       "        vertical-align: top;\n",
       "    }\n",
       "\n",
       "    .dataframe thead th {\n",
       "        text-align: right;\n",
       "    }\n",
       "</style>\n",
       "<table border=\"1\" class=\"dataframe\">\n",
       "  <thead>\n",
       "    <tr style=\"text-align: right;\">\n",
       "      <th></th>\n",
       "      <th>mean_fit_time</th>\n",
       "      <th>std_fit_time</th>\n",
       "      <th>mean_score_time</th>\n",
       "      <th>std_score_time</th>\n",
       "      <th>param_criterion</th>\n",
       "      <th>param_max_features</th>\n",
       "      <th>param_splitter</th>\n",
       "      <th>params</th>\n",
       "      <th>split0_test_score</th>\n",
       "      <th>split1_test_score</th>\n",
       "      <th>...</th>\n",
       "      <th>split3_test_score</th>\n",
       "      <th>split4_test_score</th>\n",
       "      <th>split5_test_score</th>\n",
       "      <th>split6_test_score</th>\n",
       "      <th>split7_test_score</th>\n",
       "      <th>split8_test_score</th>\n",
       "      <th>split9_test_score</th>\n",
       "      <th>mean_test_score</th>\n",
       "      <th>std_test_score</th>\n",
       "      <th>rank_test_score</th>\n",
       "    </tr>\n",
       "  </thead>\n",
       "  <tbody>\n",
       "    <tr>\n",
       "      <th>0</th>\n",
       "      <td>0.024885</td>\n",
       "      <td>0.002717</td>\n",
       "      <td>0.001746</td>\n",
       "      <td>0.000396</td>\n",
       "      <td>gini</td>\n",
       "      <td>1</td>\n",
       "      <td>best</td>\n",
       "      <td>{'criterion': 'gini', 'max_features': 1, 'spli...</td>\n",
       "      <td>0.934467</td>\n",
       "      <td>0.942971</td>\n",
       "      <td>...</td>\n",
       "      <td>0.957479</td>\n",
       "      <td>0.951976</td>\n",
       "      <td>0.941471</td>\n",
       "      <td>0.962462</td>\n",
       "      <td>0.944444</td>\n",
       "      <td>0.938939</td>\n",
       "      <td>0.964965</td>\n",
       "      <td>0.949615</td>\n",
       "      <td>0.010015</td>\n",
       "      <td>73</td>\n",
       "    </tr>\n",
       "    <tr>\n",
       "      <th>1</th>\n",
       "      <td>0.012363</td>\n",
       "      <td>0.001014</td>\n",
       "      <td>0.001699</td>\n",
       "      <td>0.000441</td>\n",
       "      <td>gini</td>\n",
       "      <td>1</td>\n",
       "      <td>random</td>\n",
       "      <td>{'criterion': 'gini', 'max_features': 1, 'spli...</td>\n",
       "      <td>0.916958</td>\n",
       "      <td>0.927964</td>\n",
       "      <td>...</td>\n",
       "      <td>0.941971</td>\n",
       "      <td>0.939970</td>\n",
       "      <td>0.928964</td>\n",
       "      <td>0.933934</td>\n",
       "      <td>0.930931</td>\n",
       "      <td>0.917918</td>\n",
       "      <td>0.946446</td>\n",
       "      <td>0.930802</td>\n",
       "      <td>0.009455</td>\n",
       "      <td>75</td>\n",
       "    </tr>\n",
       "    <tr>\n",
       "      <th>2</th>\n",
       "      <td>0.043461</td>\n",
       "      <td>0.003152</td>\n",
       "      <td>0.001730</td>\n",
       "      <td>0.000471</td>\n",
       "      <td>gini</td>\n",
       "      <td>2</td>\n",
       "      <td>best</td>\n",
       "      <td>{'criterion': 'gini', 'max_features': 2, 'spli...</td>\n",
       "      <td>0.964982</td>\n",
       "      <td>0.964482</td>\n",
       "      <td>...</td>\n",
       "      <td>0.964982</td>\n",
       "      <td>0.965983</td>\n",
       "      <td>0.975488</td>\n",
       "      <td>0.961461</td>\n",
       "      <td>0.961962</td>\n",
       "      <td>0.956957</td>\n",
       "      <td>0.966466</td>\n",
       "      <td>0.963874</td>\n",
       "      <td>0.005182</td>\n",
       "      <td>63</td>\n",
       "    </tr>\n",
       "    <tr>\n",
       "      <th>3</th>\n",
       "      <td>0.012770</td>\n",
       "      <td>0.001934</td>\n",
       "      <td>0.001874</td>\n",
       "      <td>0.000628</td>\n",
       "      <td>gini</td>\n",
       "      <td>2</td>\n",
       "      <td>random</td>\n",
       "      <td>{'criterion': 'gini', 'max_features': 2, 'spli...</td>\n",
       "      <td>0.937969</td>\n",
       "      <td>0.955478</td>\n",
       "      <td>...</td>\n",
       "      <td>0.949975</td>\n",
       "      <td>0.949475</td>\n",
       "      <td>0.929465</td>\n",
       "      <td>0.947447</td>\n",
       "      <td>0.941942</td>\n",
       "      <td>0.950951</td>\n",
       "      <td>0.953954</td>\n",
       "      <td>0.945262</td>\n",
       "      <td>0.008107</td>\n",
       "      <td>74</td>\n",
       "    </tr>\n",
       "    <tr>\n",
       "      <th>4</th>\n",
       "      <td>0.058485</td>\n",
       "      <td>0.004200</td>\n",
       "      <td>0.001629</td>\n",
       "      <td>0.000500</td>\n",
       "      <td>gini</td>\n",
       "      <td>3</td>\n",
       "      <td>best</td>\n",
       "      <td>{'criterion': 'gini', 'max_features': 3, 'spli...</td>\n",
       "      <td>0.967484</td>\n",
       "      <td>0.966983</td>\n",
       "      <td>...</td>\n",
       "      <td>0.969985</td>\n",
       "      <td>0.966483</td>\n",
       "      <td>0.963482</td>\n",
       "      <td>0.968969</td>\n",
       "      <td>0.974975</td>\n",
       "      <td>0.961461</td>\n",
       "      <td>0.965966</td>\n",
       "      <td>0.967327</td>\n",
       "      <td>0.003467</td>\n",
       "      <td>57</td>\n",
       "    </tr>\n",
       "  </tbody>\n",
       "</table>\n",
       "<p>5 rows × 21 columns</p>\n",
       "</div>"
      ],
      "text/plain": [
       "   mean_fit_time  std_fit_time  mean_score_time  std_score_time  \\\n",
       "0       0.024885      0.002717         0.001746        0.000396   \n",
       "1       0.012363      0.001014         0.001699        0.000441   \n",
       "2       0.043461      0.003152         0.001730        0.000471   \n",
       "3       0.012770      0.001934         0.001874        0.000628   \n",
       "4       0.058485      0.004200         0.001629        0.000500   \n",
       "\n",
       "  param_criterion param_max_features param_splitter  \\\n",
       "0            gini                  1           best   \n",
       "1            gini                  1         random   \n",
       "2            gini                  2           best   \n",
       "3            gini                  2         random   \n",
       "4            gini                  3           best   \n",
       "\n",
       "                                              params  split0_test_score  \\\n",
       "0  {'criterion': 'gini', 'max_features': 1, 'spli...           0.934467   \n",
       "1  {'criterion': 'gini', 'max_features': 1, 'spli...           0.916958   \n",
       "2  {'criterion': 'gini', 'max_features': 2, 'spli...           0.964982   \n",
       "3  {'criterion': 'gini', 'max_features': 2, 'spli...           0.937969   \n",
       "4  {'criterion': 'gini', 'max_features': 3, 'spli...           0.967484   \n",
       "\n",
       "   split1_test_score  ...  split3_test_score  split4_test_score  \\\n",
       "0           0.942971  ...           0.957479           0.951976   \n",
       "1           0.927964  ...           0.941971           0.939970   \n",
       "2           0.964482  ...           0.964982           0.965983   \n",
       "3           0.955478  ...           0.949975           0.949475   \n",
       "4           0.966983  ...           0.969985           0.966483   \n",
       "\n",
       "   split5_test_score  split6_test_score  split7_test_score  split8_test_score  \\\n",
       "0           0.941471           0.962462           0.944444           0.938939   \n",
       "1           0.928964           0.933934           0.930931           0.917918   \n",
       "2           0.975488           0.961461           0.961962           0.956957   \n",
       "3           0.929465           0.947447           0.941942           0.950951   \n",
       "4           0.963482           0.968969           0.974975           0.961461   \n",
       "\n",
       "   split9_test_score  mean_test_score  std_test_score  rank_test_score  \n",
       "0           0.964965         0.949615        0.010015               73  \n",
       "1           0.946446         0.930802        0.009455               75  \n",
       "2           0.966466         0.963874        0.005182               63  \n",
       "3           0.953954         0.945262        0.008107               74  \n",
       "4           0.965966         0.967327        0.003467               57  \n",
       "\n",
       "[5 rows x 21 columns]"
      ]
     },
     "execution_count": 37,
     "metadata": {},
     "output_type": "execute_result"
    }
   ],
   "source": [
    "tab = pd.DataFrame(optimization.cv_results_)\n",
    "tab.head()"
   ]
  },
  {
   "cell_type": "code",
   "execution_count": 34,
   "metadata": {},
   "outputs": [
    {
     "data": {
      "text/html": [
       "<style>#sk-container-id-3 {color: black;background-color: white;}#sk-container-id-3 pre{padding: 0;}#sk-container-id-3 div.sk-toggleable {background-color: white;}#sk-container-id-3 label.sk-toggleable__label {cursor: pointer;display: block;width: 100%;margin-bottom: 0;padding: 0.3em;box-sizing: border-box;text-align: center;}#sk-container-id-3 label.sk-toggleable__label-arrow:before {content: \"▸\";float: left;margin-right: 0.25em;color: #696969;}#sk-container-id-3 label.sk-toggleable__label-arrow:hover:before {color: black;}#sk-container-id-3 div.sk-estimator:hover label.sk-toggleable__label-arrow:before {color: black;}#sk-container-id-3 div.sk-toggleable__content {max-height: 0;max-width: 0;overflow: hidden;text-align: left;background-color: #f0f8ff;}#sk-container-id-3 div.sk-toggleable__content pre {margin: 0.2em;color: black;border-radius: 0.25em;background-color: #f0f8ff;}#sk-container-id-3 input.sk-toggleable__control:checked~div.sk-toggleable__content {max-height: 200px;max-width: 100%;overflow: auto;}#sk-container-id-3 input.sk-toggleable__control:checked~label.sk-toggleable__label-arrow:before {content: \"▾\";}#sk-container-id-3 div.sk-estimator input.sk-toggleable__control:checked~label.sk-toggleable__label {background-color: #d4ebff;}#sk-container-id-3 div.sk-label input.sk-toggleable__control:checked~label.sk-toggleable__label {background-color: #d4ebff;}#sk-container-id-3 input.sk-hidden--visually {border: 0;clip: rect(1px 1px 1px 1px);clip: rect(1px, 1px, 1px, 1px);height: 1px;margin: -1px;overflow: hidden;padding: 0;position: absolute;width: 1px;}#sk-container-id-3 div.sk-estimator {font-family: monospace;background-color: #f0f8ff;border: 1px dotted black;border-radius: 0.25em;box-sizing: border-box;margin-bottom: 0.5em;}#sk-container-id-3 div.sk-estimator:hover {background-color: #d4ebff;}#sk-container-id-3 div.sk-parallel-item::after {content: \"\";width: 100%;border-bottom: 1px solid gray;flex-grow: 1;}#sk-container-id-3 div.sk-label:hover label.sk-toggleable__label {background-color: #d4ebff;}#sk-container-id-3 div.sk-serial::before {content: \"\";position: absolute;border-left: 1px solid gray;box-sizing: border-box;top: 0;bottom: 0;left: 50%;z-index: 0;}#sk-container-id-3 div.sk-serial {display: flex;flex-direction: column;align-items: center;background-color: white;padding-right: 0.2em;padding-left: 0.2em;position: relative;}#sk-container-id-3 div.sk-item {position: relative;z-index: 1;}#sk-container-id-3 div.sk-parallel {display: flex;align-items: stretch;justify-content: center;background-color: white;position: relative;}#sk-container-id-3 div.sk-item::before, #sk-container-id-3 div.sk-parallel-item::before {content: \"\";position: absolute;border-left: 1px solid gray;box-sizing: border-box;top: 0;bottom: 0;left: 50%;z-index: -1;}#sk-container-id-3 div.sk-parallel-item {display: flex;flex-direction: column;z-index: 1;position: relative;background-color: white;}#sk-container-id-3 div.sk-parallel-item:first-child::after {align-self: flex-end;width: 50%;}#sk-container-id-3 div.sk-parallel-item:last-child::after {align-self: flex-start;width: 50%;}#sk-container-id-3 div.sk-parallel-item:only-child::after {width: 0;}#sk-container-id-3 div.sk-dashed-wrapped {border: 1px dashed gray;margin: 0 0.4em 0.5em 0.4em;box-sizing: border-box;padding-bottom: 0.4em;background-color: white;}#sk-container-id-3 div.sk-label label {font-family: monospace;font-weight: bold;display: inline-block;line-height: 1.2em;}#sk-container-id-3 div.sk-label-container {text-align: center;}#sk-container-id-3 div.sk-container {/* jupyter's `normalize.less` sets `[hidden] { display: none; }` but bootstrap.min.css set `[hidden] { display: none !important; }` so we also need the `!important` here to be able to override the default hidden behavior on the sphinx rendered scikit-learn.org. See: https://github.com/scikit-learn/scikit-learn/issues/21755 */display: inline-block !important;position: relative;}#sk-container-id-3 div.sk-text-repr-fallback {display: none;}</style><div id=\"sk-container-id-3\" class=\"sk-top-container\"><div class=\"sk-text-repr-fallback\"><pre>DecisionTreeClassifier(criterion=&#x27;entropy&#x27;, max_features=18)</pre><b>In a Jupyter environment, please rerun this cell to show the HTML representation or trust the notebook. <br />On GitHub, the HTML representation is unable to render, please try loading this page with nbviewer.org.</b></div><div class=\"sk-container\" hidden><div class=\"sk-item\"><div class=\"sk-estimator sk-toggleable\"><input class=\"sk-toggleable__control sk-hidden--visually\" id=\"sk-estimator-id-3\" type=\"checkbox\" checked><label for=\"sk-estimator-id-3\" class=\"sk-toggleable__label sk-toggleable__label-arrow\">DecisionTreeClassifier</label><div class=\"sk-toggleable__content\"><pre>DecisionTreeClassifier(criterion=&#x27;entropy&#x27;, max_features=18)</pre></div></div></div></div></div>"
      ],
      "text/plain": [
       "DecisionTreeClassifier(criterion='entropy', max_features=18)"
      ]
     },
     "execution_count": 34,
     "metadata": {},
     "output_type": "execute_result"
    }
   ],
   "source": [
    "opt = optimization.best_estimator_\n",
    "opt"
   ]
  },
  {
   "cell_type": "code",
   "execution_count": 35,
   "metadata": {},
   "outputs": [],
   "source": [
    "clf = optimization.best_estimator_\n",
    "clf = clf.fit(use_train_data,train_target)\n",
    "\n",
    "predict=clf.predict(use_test_data)"
   ]
  },
  {
   "cell_type": "code",
   "execution_count": 36,
   "metadata": {},
   "outputs": [
    {
     "name": "stdout",
     "output_type": "stream",
     "text": [
      "score:  0.40724434660796477\n"
     ]
    }
   ],
   "source": [
    "print(\"score: \",metrics.accuracy_score(test_target,predict))"
   ]
  }
 ],
 "metadata": {
  "kernelspec": {
   "display_name": "Python 3 (ipykernel)",
   "language": "python",
   "name": "python3"
  },
  "language_info": {
   "codemirror_mode": {
    "name": "ipython",
    "version": 3
   },
   "file_extension": ".py",
   "mimetype": "text/x-python",
   "name": "python",
   "nbconvert_exporter": "python",
   "pygments_lexer": "ipython3",
   "version": "3.10.0"
  },
  "vscode": {
   "interpreter": {
    "hash": "e01f98c1efd1268bedfeafc745a32ce1740c9ed588db6de697bb135db4ef3f8f"
   }
  }
 },
 "nbformat": 4,
 "nbformat_minor": 2
}
