{
 "cells": [
  {
   "cell_type": "markdown",
   "metadata": {},
   "source": [
    "# IAU Projekt 3. fáza\n",
    "\n",
    "### Autori: Martin Raffáč (50%), Tibor Vanek (50%)\n",
    "\n",
    "dataset číslo **003**"
   ]
  },
  {
   "cell_type": "code",
   "execution_count": 1,
   "metadata": {},
   "outputs": [],
   "source": [
    "import pandas as pd\n",
    "import numpy as np\n",
    "from sklearn.metrics import confusion_matrix, classification_report\n",
    "from sklearn.model_selection import GridSearchCV\n",
    "from sklearn.tree import DecisionTreeClassifier\n",
    "from sklearn import tree, metrics\n",
    "from pandas import read_csv\n",
    "import seaborn as sns\n",
    "from matplotlib import pyplot as plt\n",
    "from scipy import stats\n",
    "from sklearn.model_selection import RandomizedSearchCV\n",
    "from matplotlib import pyplot\n",
    "import os\n",
    "#import graphviz \n",
    "#import pydot\n",
    "from IPython.display import Image\n",
    "from sklearn.metrics import accuracy_score\n",
    "from sklearn.metrics import precision_score\n",
    "from sklearn.metrics import recall_score\n",
    "from sklearn.model_selection import train_test_split\n",
    "from sklearn.ensemble import RandomForestClassifier\n",
    "from sklearn.model_selection import GridSearchCV\n",
    "from sklearn.metrics import accuracy_score\n",
    "from sklearn.model_selection import validation_curve\n",
    "from sklearn.datasets import make_friedman1\n",
    "from sklearn.feature_selection import RFE\n",
    "from sklearn.svm import SVR\n",
    "from sklearn.feature_selection import VarianceThreshold"
   ]
  },
  {
   "cell_type": "code",
   "execution_count": 39,
   "metadata": {},
   "outputs": [],
   "source": [
    "train_data = pd.read_csv(\"num_data.csv\", sep=',')\n",
    "test_data = pd.read_csv(\"test_data.csv\", sep=',')"
   ]
  },
  {
   "cell_type": "markdown",
   "metadata": {},
   "source": [
    "Náčítanie trénovacích dát."
   ]
  },
  {
   "cell_type": "code",
   "execution_count": 40,
   "metadata": {},
   "outputs": [],
   "source": [
    "data_for_oneR = train_data.copy()"
   ]
  },
  {
   "cell_type": "markdown",
   "metadata": {},
   "source": [
    "## 1. Jednoduchý klasifikátor na základe závislosti v dátach "
   ]
  },
  {
   "cell_type": "code",
   "execution_count": 41,
   "metadata": {},
   "outputs": [],
   "source": [
    "def oneR(column):\n",
    "\n",
    "    split = (data_for_oneR[column][data_for_oneR['warning'] == 0].mean() + data_for_oneR[column][data_for_oneR['warning'] == 1].mean())/2\n",
    "    group = data_for_oneR[data_for_oneR[column] > split]\n",
    "    group = group.groupby('warning').size()\n",
    "\n",
    "    if group[0] > group[1]:\n",
    "        left = 1\n",
    "        right = 0\n",
    "    else:\n",
    "        left = 0\n",
    "        right = 1\n",
    "        \n",
    "    predict = {\"split\": split, \"left\": left, \"right\": right}\n",
    "    \n",
    "    data_for_oneR.loc[data_for_oneR[column] < predict[\"split\"], 'helper'] = predict[\"left\"]\n",
    "    data_for_oneR.loc[data_for_oneR[column] >= predict[\"split\"], 'helper'] = predict[\"right\"]\n",
    "    accuracy = accuracy_score(data_for_oneR['warning'], data_for_oneR['helper'])\n",
    "    precision = precision_score(data_for_oneR['warning'], data_for_oneR['helper'])\n",
    "    recall = recall_score(data_for_oneR['warning'], data_for_oneR['helper'])\n",
    "    total=(accuracy + precision + recall) / 3\n",
    "    data_for_oneR.drop('helper', axis=1, inplace=True)\n",
    "\n",
    "    return {\"accuracy\": accuracy, \"precision\": precision, \"recall\": recall ,\"total\": total}"
   ]
  },
  {
   "cell_type": "code",
   "execution_count": 42,
   "metadata": {},
   "outputs": [
    {
     "name": "stdout",
     "output_type": "stream",
     "text": [
      "best oneR: PAHs\n",
      "total_score: 0.8226555439842604\n",
      "accuracy_score: 0.8033508691674291\n",
      "precision_score: 0.8549149813864574\n",
      "recall_score: 0.8097007813988946\n"
     ]
    }
   ],
   "source": [
    "accuracy = 0 \n",
    "columns =  data_for_oneR.columns\n",
    "\n",
    "for i in columns:\n",
    "    if i == 'warning':\n",
    "        continue\n",
    "\n",
    "    data_oneR = oneR(i)\n",
    "    \n",
    "    if data_oneR[\"total\"] > accuracy:\n",
    "        best = i\n",
    "        accuracy = data_oneR[\"total\"]\n",
    "        best_column = data_oneR\n",
    "        \n",
    "print('best oneR: ' + best)\n",
    "print('total_score: ' + str(best_column[\"total\"]))\n",
    "print('accuracy_score: ' + str(best_column[\"accuracy\"]))\n",
    "print('precision_score: ' + str(best_column[\"precision\"]))\n",
    "print('recall_score: ' + str(best_column[\"recall\"]))"
   ]
  },
  {
   "cell_type": "markdown",
   "metadata": {},
   "source": [
    "Podľa zadania sme zhotovili jednoduchý algoritmus oneR, ktorý sme vložili do funkcie. Následne sme ho vyskúšali na trénovacom datasete, predpokladali sme, že najlepší výsledok dosiahne atrihút PAHs, pretože má najviššiu koreláciu s atribútom warning. Ako je možné vidieť vyššie naše predpoklady sa naplinili.  "
   ]
  },
  {
   "cell_type": "markdown",
   "metadata": {},
   "source": [
    "## 2. Trénovanie a vyhodnotenie klasifikátorov strojového učenia"
   ]
  },
  {
   "cell_type": "code",
   "execution_count": 43,
   "metadata": {},
   "outputs": [],
   "source": [
    "# treba trochu precistit dataset\n",
    "train_data.drop([\"Unnamed: 0\"], axis= \"columns\", inplace = True)\n",
    "test_data.drop([\"Unnamed: 0\", \"station\", \"QoS\", \"code\", \"revision\"], axis= \"columns\", inplace = True)"
   ]
  },
  {
   "cell_type": "code",
   "execution_count": 44,
   "metadata": {},
   "outputs": [
    {
     "data": {
      "text/html": [
       "<div>\n",
       "<style scoped>\n",
       "    .dataframe tbody tr th:only-of-type {\n",
       "        vertical-align: middle;\n",
       "    }\n",
       "\n",
       "    .dataframe tbody tr th {\n",
       "        vertical-align: top;\n",
       "    }\n",
       "\n",
       "    .dataframe thead th {\n",
       "        text-align: right;\n",
       "    }\n",
       "</style>\n",
       "<table border=\"1\" class=\"dataframe\">\n",
       "  <thead>\n",
       "    <tr style=\"text-align: right;\">\n",
       "      <th></th>\n",
       "      <th>longitude</th>\n",
       "      <th>C2H3NO5</th>\n",
       "      <th>O3</th>\n",
       "      <th>CO</th>\n",
       "      <th>warning</th>\n",
       "      <th>Pb</th>\n",
       "      <th>PAHs</th>\n",
       "      <th>PM2.5</th>\n",
       "      <th>PRES</th>\n",
       "      <th>TEMP</th>\n",
       "      <th>latitude</th>\n",
       "      <th>NH3</th>\n",
       "      <th>H2CO</th>\n",
       "      <th>SO2</th>\n",
       "      <th>CH4</th>\n",
       "      <th>PM10</th>\n",
       "      <th>CFCs</th>\n",
       "      <th>NOx</th>\n",
       "    </tr>\n",
       "  </thead>\n",
       "  <tbody>\n",
       "    <tr>\n",
       "      <th>0</th>\n",
       "      <td>97.01124</td>\n",
       "      <td>-1.318894</td>\n",
       "      <td>1.427437</td>\n",
       "      <td>1.162054</td>\n",
       "      <td>1.0</td>\n",
       "      <td>1.954680</td>\n",
       "      <td>-1.005176</td>\n",
       "      <td>-1.709415</td>\n",
       "      <td>1144.53017</td>\n",
       "      <td>0.676926</td>\n",
       "      <td>17.30858</td>\n",
       "      <td>0.252756</td>\n",
       "      <td>0.865279</td>\n",
       "      <td>0.924576</td>\n",
       "      <td>0.328161</td>\n",
       "      <td>-2.171795</td>\n",
       "      <td>-0.266693</td>\n",
       "      <td>-2.321369</td>\n",
       "    </tr>\n",
       "    <tr>\n",
       "      <th>1</th>\n",
       "      <td>126.83500</td>\n",
       "      <td>-2.037985</td>\n",
       "      <td>-0.577099</td>\n",
       "      <td>-0.093487</td>\n",
       "      <td>0.0</td>\n",
       "      <td>1.541669</td>\n",
       "      <td>-0.518571</td>\n",
       "      <td>-0.160529</td>\n",
       "      <td>1174.97809</td>\n",
       "      <td>1.670039</td>\n",
       "      <td>37.65639</td>\n",
       "      <td>-0.645434</td>\n",
       "      <td>-0.526938</td>\n",
       "      <td>-1.022389</td>\n",
       "      <td>-0.772874</td>\n",
       "      <td>-0.374415</td>\n",
       "      <td>-1.957799</td>\n",
       "      <td>2.060238</td>\n",
       "    </tr>\n",
       "    <tr>\n",
       "      <th>2</th>\n",
       "      <td>-77.43532</td>\n",
       "      <td>0.858519</td>\n",
       "      <td>-0.836656</td>\n",
       "      <td>-0.977796</td>\n",
       "      <td>0.0</td>\n",
       "      <td>1.138531</td>\n",
       "      <td>-1.155592</td>\n",
       "      <td>0.775651</td>\n",
       "      <td>1091.03764</td>\n",
       "      <td>0.555705</td>\n",
       "      <td>20.14298</td>\n",
       "      <td>0.215612</td>\n",
       "      <td>-0.194127</td>\n",
       "      <td>-0.467293</td>\n",
       "      <td>-0.997094</td>\n",
       "      <td>1.110119</td>\n",
       "      <td>0.932770</td>\n",
       "      <td>2.259446</td>\n",
       "    </tr>\n",
       "    <tr>\n",
       "      <th>3</th>\n",
       "      <td>24.43973</td>\n",
       "      <td>-1.001980</td>\n",
       "      <td>2.042868</td>\n",
       "      <td>-0.461678</td>\n",
       "      <td>0.0</td>\n",
       "      <td>0.062939</td>\n",
       "      <td>-0.511242</td>\n",
       "      <td>-1.970697</td>\n",
       "      <td>1069.54392</td>\n",
       "      <td>1.507952</td>\n",
       "      <td>0.76755</td>\n",
       "      <td>-1.170966</td>\n",
       "      <td>0.018366</td>\n",
       "      <td>0.469582</td>\n",
       "      <td>0.147670</td>\n",
       "      <td>-1.569419</td>\n",
       "      <td>-1.494582</td>\n",
       "      <td>1.120510</td>\n",
       "    </tr>\n",
       "    <tr>\n",
       "      <th>4</th>\n",
       "      <td>70.91106</td>\n",
       "      <td>-0.160618</td>\n",
       "      <td>0.045666</td>\n",
       "      <td>-0.137935</td>\n",
       "      <td>1.0</td>\n",
       "      <td>1.371373</td>\n",
       "      <td>0.253984</td>\n",
       "      <td>-0.592472</td>\n",
       "      <td>1084.32069</td>\n",
       "      <td>0.345856</td>\n",
       "      <td>29.38242</td>\n",
       "      <td>0.619865</td>\n",
       "      <td>-1.107548</td>\n",
       "      <td>0.946049</td>\n",
       "      <td>1.618434</td>\n",
       "      <td>-0.321605</td>\n",
       "      <td>-0.281218</td>\n",
       "      <td>-0.796831</td>\n",
       "    </tr>\n",
       "  </tbody>\n",
       "</table>\n",
       "</div>"
      ],
      "text/plain": [
       "   longitude   C2H3NO5        O3        CO  warning        Pb      PAHs  \\\n",
       "0   97.01124 -1.318894  1.427437  1.162054      1.0  1.954680 -1.005176   \n",
       "1  126.83500 -2.037985 -0.577099 -0.093487      0.0  1.541669 -0.518571   \n",
       "2  -77.43532  0.858519 -0.836656 -0.977796      0.0  1.138531 -1.155592   \n",
       "3   24.43973 -1.001980  2.042868 -0.461678      0.0  0.062939 -0.511242   \n",
       "4   70.91106 -0.160618  0.045666 -0.137935      1.0  1.371373  0.253984   \n",
       "\n",
       "      PM2.5        PRES      TEMP  latitude       NH3      H2CO       SO2  \\\n",
       "0 -1.709415  1144.53017  0.676926  17.30858  0.252756  0.865279  0.924576   \n",
       "1 -0.160529  1174.97809  1.670039  37.65639 -0.645434 -0.526938 -1.022389   \n",
       "2  0.775651  1091.03764  0.555705  20.14298  0.215612 -0.194127 -0.467293   \n",
       "3 -1.970697  1069.54392  1.507952   0.76755 -1.170966  0.018366  0.469582   \n",
       "4 -0.592472  1084.32069  0.345856  29.38242  0.619865 -1.107548  0.946049   \n",
       "\n",
       "        CH4      PM10      CFCs       NOx  \n",
       "0  0.328161 -2.171795 -0.266693 -2.321369  \n",
       "1 -0.772874 -0.374415 -1.957799  2.060238  \n",
       "2 -0.997094  1.110119  0.932770  2.259446  \n",
       "3  0.147670 -1.569419 -1.494582  1.120510  \n",
       "4  1.618434 -0.321605 -0.281218 -0.796831  "
      ]
     },
     "execution_count": 44,
     "metadata": {},
     "output_type": "execute_result"
    }
   ],
   "source": [
    "train_data.head()"
   ]
  },
  {
   "cell_type": "code",
   "execution_count": 45,
   "metadata": {},
   "outputs": [
    {
     "data": {
      "text/html": [
       "<div>\n",
       "<style scoped>\n",
       "    .dataframe tbody tr th:only-of-type {\n",
       "        vertical-align: middle;\n",
       "    }\n",
       "\n",
       "    .dataframe tbody tr th {\n",
       "        vertical-align: top;\n",
       "    }\n",
       "\n",
       "    .dataframe thead th {\n",
       "        text-align: right;\n",
       "    }\n",
       "</style>\n",
       "<table border=\"1\" class=\"dataframe\">\n",
       "  <thead>\n",
       "    <tr style=\"text-align: right;\">\n",
       "      <th></th>\n",
       "      <th>longitude</th>\n",
       "      <th>C2H3NO5</th>\n",
       "      <th>O3</th>\n",
       "      <th>CO</th>\n",
       "      <th>warning</th>\n",
       "      <th>Pb</th>\n",
       "      <th>PAHs</th>\n",
       "      <th>PM2.5</th>\n",
       "      <th>PRES</th>\n",
       "      <th>TEMP</th>\n",
       "      <th>latitude</th>\n",
       "      <th>NH3</th>\n",
       "      <th>H2CO</th>\n",
       "      <th>SO2</th>\n",
       "      <th>CH4</th>\n",
       "      <th>PM10</th>\n",
       "      <th>CFCs</th>\n",
       "      <th>NOx</th>\n",
       "    </tr>\n",
       "  </thead>\n",
       "  <tbody>\n",
       "    <tr>\n",
       "      <th>0</th>\n",
       "      <td>-63.13414</td>\n",
       "      <td>0.03970</td>\n",
       "      <td>9.20861</td>\n",
       "      <td>7.59667</td>\n",
       "      <td>0.0</td>\n",
       "      <td>41.86251</td>\n",
       "      <td>7.80967</td>\n",
       "      <td>6.27422</td>\n",
       "      <td>1124.957487</td>\n",
       "      <td>13.21464</td>\n",
       "      <td>46.23899</td>\n",
       "      <td>5.80241</td>\n",
       "      <td>43.22794</td>\n",
       "      <td>9.72249</td>\n",
       "      <td>10.43725</td>\n",
       "      <td>7.65940</td>\n",
       "      <td>53.79674</td>\n",
       "      <td>8.81237</td>\n",
       "    </tr>\n",
       "    <tr>\n",
       "      <th>1</th>\n",
       "      <td>-76.99081</td>\n",
       "      <td>0.08607</td>\n",
       "      <td>8.92422</td>\n",
       "      <td>6.89382</td>\n",
       "      <td>1.0</td>\n",
       "      <td>48.26615</td>\n",
       "      <td>10.03832</td>\n",
       "      <td>7.67315</td>\n",
       "      <td>1140.626970</td>\n",
       "      <td>12.79735</td>\n",
       "      <td>38.96372</td>\n",
       "      <td>8.21937</td>\n",
       "      <td>50.62776</td>\n",
       "      <td>9.09776</td>\n",
       "      <td>7.52423</td>\n",
       "      <td>8.69599</td>\n",
       "      <td>49.72505</td>\n",
       "      <td>6.72095</td>\n",
       "    </tr>\n",
       "    <tr>\n",
       "      <th>2</th>\n",
       "      <td>-65.71875</td>\n",
       "      <td>0.02946</td>\n",
       "      <td>6.87142</td>\n",
       "      <td>7.62699</td>\n",
       "      <td>1.0</td>\n",
       "      <td>54.26844</td>\n",
       "      <td>9.43831</td>\n",
       "      <td>8.87614</td>\n",
       "      <td>1182.998540</td>\n",
       "      <td>8.30216</td>\n",
       "      <td>-21.44345</td>\n",
       "      <td>9.91387</td>\n",
       "      <td>53.58158</td>\n",
       "      <td>8.74041</td>\n",
       "      <td>10.58385</td>\n",
       "      <td>6.01329</td>\n",
       "      <td>69.02005</td>\n",
       "      <td>6.84437</td>\n",
       "    </tr>\n",
       "    <tr>\n",
       "      <th>3</th>\n",
       "      <td>145.06667</td>\n",
       "      <td>0.03215</td>\n",
       "      <td>7.58483</td>\n",
       "      <td>9.64289</td>\n",
       "      <td>1.0</td>\n",
       "      <td>64.83627</td>\n",
       "      <td>8.41452</td>\n",
       "      <td>7.04136</td>\n",
       "      <td>1093.056920</td>\n",
       "      <td>25.42489</td>\n",
       "      <td>-37.88333</td>\n",
       "      <td>6.98521</td>\n",
       "      <td>25.74717</td>\n",
       "      <td>10.08661</td>\n",
       "      <td>10.25194</td>\n",
       "      <td>5.24794</td>\n",
       "      <td>54.31056</td>\n",
       "      <td>6.09566</td>\n",
       "    </tr>\n",
       "    <tr>\n",
       "      <th>4</th>\n",
       "      <td>136.51667</td>\n",
       "      <td>0.02341</td>\n",
       "      <td>7.28777</td>\n",
       "      <td>8.99423</td>\n",
       "      <td>0.0</td>\n",
       "      <td>56.46623</td>\n",
       "      <td>7.46872</td>\n",
       "      <td>6.38319</td>\n",
       "      <td>1155.669550</td>\n",
       "      <td>30.92183</td>\n",
       "      <td>35.00000</td>\n",
       "      <td>7.34623</td>\n",
       "      <td>33.30239</td>\n",
       "      <td>7.48142</td>\n",
       "      <td>8.20504</td>\n",
       "      <td>6.48610</td>\n",
       "      <td>61.45096</td>\n",
       "      <td>9.25059</td>\n",
       "    </tr>\n",
       "  </tbody>\n",
       "</table>\n",
       "</div>"
      ],
      "text/plain": [
       "   longitude  C2H3NO5       O3       CO  warning        Pb      PAHs    PM2.5  \\\n",
       "0  -63.13414  0.03970  9.20861  7.59667      0.0  41.86251   7.80967  6.27422   \n",
       "1  -76.99081  0.08607  8.92422  6.89382      1.0  48.26615  10.03832  7.67315   \n",
       "2  -65.71875  0.02946  6.87142  7.62699      1.0  54.26844   9.43831  8.87614   \n",
       "3  145.06667  0.03215  7.58483  9.64289      1.0  64.83627   8.41452  7.04136   \n",
       "4  136.51667  0.02341  7.28777  8.99423      0.0  56.46623   7.46872  6.38319   \n",
       "\n",
       "          PRES      TEMP  latitude      NH3      H2CO       SO2       CH4  \\\n",
       "0  1124.957487  13.21464  46.23899  5.80241  43.22794   9.72249  10.43725   \n",
       "1  1140.626970  12.79735  38.96372  8.21937  50.62776   9.09776   7.52423   \n",
       "2  1182.998540   8.30216 -21.44345  9.91387  53.58158   8.74041  10.58385   \n",
       "3  1093.056920  25.42489 -37.88333  6.98521  25.74717  10.08661  10.25194   \n",
       "4  1155.669550  30.92183  35.00000  7.34623  33.30239   7.48142   8.20504   \n",
       "\n",
       "      PM10      CFCs      NOx  \n",
       "0  7.65940  53.79674  8.81237  \n",
       "1  8.69599  49.72505  6.72095  \n",
       "2  6.01329  69.02005  6.84437  \n",
       "3  5.24794  54.31056  6.09566  \n",
       "4  6.48610  61.45096  9.25059  "
      ]
     },
     "execution_count": 45,
     "metadata": {},
     "output_type": "execute_result"
    }
   ],
   "source": [
    "test_data.head()"
   ]
  },
  {
   "cell_type": "markdown",
   "metadata": {},
   "source": [
    "Stĺpec warning si oddelíme od datasetu do samostatných premenných"
   ]
  },
  {
   "cell_type": "code",
   "execution_count": 139,
   "metadata": {},
   "outputs": [],
   "source": [
    "train_target = train_data[\"warning\"]\n",
    "test_target = test_data[\"warning\"]\n",
    "\n",
    "#use_train_data = train_data.drop(['warning'], axis = \"columns\")\n",
    "#use_test_data = test_data.drop(['warning'], axis = \"columns\")\n",
    "\n",
    "x_train_data = train_data[['CH4', 'O3', 'PM2.5', 'SO2', 'longitude', 'latitude', 'C2H3NO5', 'CO', 'NH3', 'NOx']]\n",
    "x_test_data = test_data[['CH4', 'O3', 'PM2.5', 'SO2', 'longitude', 'latitude', 'C2H3NO5', 'CO', 'NH3', 'NOx']]\n",
    "# vybrane atributy podla WAQI indexu a najvyssich korelacii"
   ]
  },
  {
   "cell_type": "code",
   "execution_count": 144,
   "metadata": {},
   "outputs": [
    {
     "name": "stdout",
     "output_type": "stream",
     "text": [
      "Score:  0.6044029352901935\n"
     ]
    }
   ],
   "source": [
    "dtf = tree.DecisionTreeClassifier()\n",
    "dtf.fit(x_train_data, train_target)\n",
    "prediction = dtf.predict(x_test_data)\n",
    "print(\"Score: \", dtf.score(x_test_data, test_target))"
   ]
  },
  {
   "cell_type": "code",
   "execution_count": 145,
   "metadata": {},
   "outputs": [
    {
     "name": "stdout",
     "output_type": "stream",
     "text": [
      "              precision    recall  f1-score   support\n",
      "\n",
      "           0       1.00      0.00      0.00      2967\n",
      "           1       0.60      1.00      0.75      4528\n",
      "\n",
      "    accuracy                           0.60      7495\n",
      "   macro avg       0.80      0.50      0.38      7495\n",
      "weighted avg       0.76      0.60      0.46      7495\n",
      "\n",
      "Accuracy: 0.6044029352901935\n",
      "Precision: 0.6042973441879087\n",
      "Recall: 1.0\n"
     ]
    }
   ],
   "source": [
    "print(classification_report(test_target, prediction, target_names = [\"0\",\"1\"]))\n",
    "\n",
    "print(\"Accuracy:\", accuracy_score(test_target, prediction))\n",
    "print(\"Precision:\", precision_score(test_target, prediction))\n",
    "print(\"Recall:\", recall_score(test_target, prediction))"
   ]
  },
  {
   "cell_type": "code",
   "execution_count": 111,
   "metadata": {},
   "outputs": [],
   "source": [
    "# graphviz nefungoval, toto je prilis velky obrazok\n",
    "#fig = plt.figure(figsize = (15, 20))\n",
    "#_ = tree.plot_tree(dtf, feature_names = use_test_data.columns, class_names = [\"1\",\"0\"], filled = True)\n",
    "#fig.savefig(\"strom.png\")"
   ]
  },
  {
   "cell_type": "markdown",
   "metadata": {},
   "source": [
    "## 3. Optimalizácia alias hyperparameter tuning"
   ]
  },
  {
   "cell_type": "markdown",
   "metadata": {},
   "source": [
    "Preskúmanie hyperparametrov\n",
    "\n",
    "1. criterion je funkcia, ktorá meria kvalitu rozdelenia. Obsahuje hodnoty gini a entropy\n",
    "\n",
    "2. splitter je stratégia rozdelenia, ktorá sa používa na všetkých uzloch stromu. využíva stratégie best a random.\n",
    "\n",
    "3. max_depth je maximalna hĺbka stromu.\n",
    "\n",
    "4. max_features charakterizuje počet stĺpcov, ktoré sa berú na vedomie pri hľadaní najlepšieho rozdelenia. Do max_depth a max_features sme vložili rozsah hodnôt."
   ]
  },
  {
   "cell_type": "code",
   "execution_count": 185,
   "metadata": {},
   "outputs": [],
   "source": [
    "parameters = {'criterion': ('gini','entropy'), 'splitter': ('best','random'), 'max_features':range(1,20,1)}\n",
    "optimization = GridSearchCV(dtf, parameters,cv=5,scoring=\"accuracy\")\n",
    "result = optimization.fit(x_train_data, train_target)"
   ]
  },
  {
   "cell_type": "markdown",
   "metadata": {},
   "source": [
    "Na vytvorenie modelu pre všetky kombinácie sme využili metódu GridSearchCV() "
   ]
  },
  {
   "cell_type": "code",
   "execution_count": 186,
   "metadata": {},
   "outputs": [
    {
     "data": {
      "text/plain": [
       "{'criterion': 'entropy', 'max_features': 6, 'splitter': 'best'}"
      ]
     },
     "execution_count": 186,
     "metadata": {},
     "output_type": "execute_result"
    }
   ],
   "source": [
    "params = optimization.best_params_\n",
    "params"
   ]
  },
  {
   "cell_type": "code",
   "execution_count": 187,
   "metadata": {},
   "outputs": [
    {
     "data": {
      "text/html": [
       "<div>\n",
       "<style scoped>\n",
       "    .dataframe tbody tr th:only-of-type {\n",
       "        vertical-align: middle;\n",
       "    }\n",
       "\n",
       "    .dataframe tbody tr th {\n",
       "        vertical-align: top;\n",
       "    }\n",
       "\n",
       "    .dataframe thead th {\n",
       "        text-align: right;\n",
       "    }\n",
       "</style>\n",
       "<table border=\"1\" class=\"dataframe\">\n",
       "  <thead>\n",
       "    <tr style=\"text-align: right;\">\n",
       "      <th></th>\n",
       "      <th>mean_fit_time</th>\n",
       "      <th>std_fit_time</th>\n",
       "      <th>mean_score_time</th>\n",
       "      <th>std_score_time</th>\n",
       "      <th>param_criterion</th>\n",
       "      <th>param_max_features</th>\n",
       "      <th>param_splitter</th>\n",
       "      <th>params</th>\n",
       "      <th>split0_test_score</th>\n",
       "      <th>split1_test_score</th>\n",
       "      <th>split2_test_score</th>\n",
       "      <th>split3_test_score</th>\n",
       "      <th>split4_test_score</th>\n",
       "      <th>mean_test_score</th>\n",
       "      <th>std_test_score</th>\n",
       "      <th>rank_test_score</th>\n",
       "    </tr>\n",
       "  </thead>\n",
       "  <tbody>\n",
       "    <tr>\n",
       "      <th>0</th>\n",
       "      <td>0.019008</td>\n",
       "      <td>0.004897</td>\n",
       "      <td>0.003000</td>\n",
       "      <td>0.006000</td>\n",
       "      <td>gini</td>\n",
       "      <td>1</td>\n",
       "      <td>best</td>\n",
       "      <td>{'criterion': 'gini', 'max_features': 1, 'spli...</td>\n",
       "      <td>0.912236</td>\n",
       "      <td>0.927673</td>\n",
       "      <td>0.911950</td>\n",
       "      <td>0.925079</td>\n",
       "      <td>0.917358</td>\n",
       "      <td>0.918859</td>\n",
       "      <td>0.006484</td>\n",
       "      <td>72</td>\n",
       "    </tr>\n",
       "    <tr>\n",
       "      <th>1</th>\n",
       "      <td>0.009006</td>\n",
       "      <td>0.007354</td>\n",
       "      <td>0.003000</td>\n",
       "      <td>0.005999</td>\n",
       "      <td>gini</td>\n",
       "      <td>1</td>\n",
       "      <td>random</td>\n",
       "      <td>{'criterion': 'gini', 'max_features': 1, 'spli...</td>\n",
       "      <td>0.881933</td>\n",
       "      <td>0.895083</td>\n",
       "      <td>0.886221</td>\n",
       "      <td>0.895053</td>\n",
       "      <td>0.912496</td>\n",
       "      <td>0.894157</td>\n",
       "      <td>0.010492</td>\n",
       "      <td>76</td>\n",
       "    </tr>\n",
       "    <tr>\n",
       "      <th>2</th>\n",
       "      <td>0.030051</td>\n",
       "      <td>0.000828</td>\n",
       "      <td>0.000408</td>\n",
       "      <td>0.000815</td>\n",
       "      <td>gini</td>\n",
       "      <td>2</td>\n",
       "      <td>best</td>\n",
       "      <td>{'criterion': 'gini', 'max_features': 2, 'spli...</td>\n",
       "      <td>0.934820</td>\n",
       "      <td>0.939680</td>\n",
       "      <td>0.937679</td>\n",
       "      <td>0.949385</td>\n",
       "      <td>0.940520</td>\n",
       "      <td>0.940417</td>\n",
       "      <td>0.004895</td>\n",
       "      <td>56</td>\n",
       "    </tr>\n",
       "    <tr>\n",
       "      <th>3</th>\n",
       "      <td>0.008572</td>\n",
       "      <td>0.003230</td>\n",
       "      <td>0.003675</td>\n",
       "      <td>0.003688</td>\n",
       "      <td>gini</td>\n",
       "      <td>2</td>\n",
       "      <td>random</td>\n",
       "      <td>{'criterion': 'gini', 'max_features': 2, 'spli...</td>\n",
       "      <td>0.903087</td>\n",
       "      <td>0.907947</td>\n",
       "      <td>0.913665</td>\n",
       "      <td>0.927938</td>\n",
       "      <td>0.926508</td>\n",
       "      <td>0.915829</td>\n",
       "      <td>0.009898</td>\n",
       "      <td>74</td>\n",
       "    </tr>\n",
       "    <tr>\n",
       "      <th>4</th>\n",
       "      <td>0.040853</td>\n",
       "      <td>0.000027</td>\n",
       "      <td>0.000424</td>\n",
       "      <td>0.000848</td>\n",
       "      <td>gini</td>\n",
       "      <td>3</td>\n",
       "      <td>best</td>\n",
       "      <td>{'criterion': 'gini', 'max_features': 3, 'spli...</td>\n",
       "      <td>0.941109</td>\n",
       "      <td>0.943682</td>\n",
       "      <td>0.945397</td>\n",
       "      <td>0.951101</td>\n",
       "      <td>0.944810</td>\n",
       "      <td>0.945220</td>\n",
       "      <td>0.003288</td>\n",
       "      <td>34</td>\n",
       "    </tr>\n",
       "  </tbody>\n",
       "</table>\n",
       "</div>"
      ],
      "text/plain": [
       "   mean_fit_time  std_fit_time  mean_score_time  std_score_time  \\\n",
       "0       0.019008      0.004897         0.003000        0.006000   \n",
       "1       0.009006      0.007354         0.003000        0.005999   \n",
       "2       0.030051      0.000828         0.000408        0.000815   \n",
       "3       0.008572      0.003230         0.003675        0.003688   \n",
       "4       0.040853      0.000027         0.000424        0.000848   \n",
       "\n",
       "  param_criterion param_max_features param_splitter  \\\n",
       "0            gini                  1           best   \n",
       "1            gini                  1         random   \n",
       "2            gini                  2           best   \n",
       "3            gini                  2         random   \n",
       "4            gini                  3           best   \n",
       "\n",
       "                                              params  split0_test_score  \\\n",
       "0  {'criterion': 'gini', 'max_features': 1, 'spli...           0.912236   \n",
       "1  {'criterion': 'gini', 'max_features': 1, 'spli...           0.881933   \n",
       "2  {'criterion': 'gini', 'max_features': 2, 'spli...           0.934820   \n",
       "3  {'criterion': 'gini', 'max_features': 2, 'spli...           0.903087   \n",
       "4  {'criterion': 'gini', 'max_features': 3, 'spli...           0.941109   \n",
       "\n",
       "   split1_test_score  split2_test_score  split3_test_score  split4_test_score  \\\n",
       "0           0.927673           0.911950           0.925079           0.917358   \n",
       "1           0.895083           0.886221           0.895053           0.912496   \n",
       "2           0.939680           0.937679           0.949385           0.940520   \n",
       "3           0.907947           0.913665           0.927938           0.926508   \n",
       "4           0.943682           0.945397           0.951101           0.944810   \n",
       "\n",
       "   mean_test_score  std_test_score  rank_test_score  \n",
       "0         0.918859        0.006484               72  \n",
       "1         0.894157        0.010492               76  \n",
       "2         0.940417        0.004895               56  \n",
       "3         0.915829        0.009898               74  \n",
       "4         0.945220        0.003288               34  "
      ]
     },
     "execution_count": 187,
     "metadata": {},
     "output_type": "execute_result"
    }
   ],
   "source": [
    "tab = pd.DataFrame(optimization.cv_results_)\n",
    "tab.head()"
   ]
  },
  {
   "cell_type": "code",
   "execution_count": 188,
   "metadata": {},
   "outputs": [
    {
     "data": {
      "text/html": [
       "<style>#sk-container-id-7 {color: black;background-color: white;}#sk-container-id-7 pre{padding: 0;}#sk-container-id-7 div.sk-toggleable {background-color: white;}#sk-container-id-7 label.sk-toggleable__label {cursor: pointer;display: block;width: 100%;margin-bottom: 0;padding: 0.3em;box-sizing: border-box;text-align: center;}#sk-container-id-7 label.sk-toggleable__label-arrow:before {content: \"▸\";float: left;margin-right: 0.25em;color: #696969;}#sk-container-id-7 label.sk-toggleable__label-arrow:hover:before {color: black;}#sk-container-id-7 div.sk-estimator:hover label.sk-toggleable__label-arrow:before {color: black;}#sk-container-id-7 div.sk-toggleable__content {max-height: 0;max-width: 0;overflow: hidden;text-align: left;background-color: #f0f8ff;}#sk-container-id-7 div.sk-toggleable__content pre {margin: 0.2em;color: black;border-radius: 0.25em;background-color: #f0f8ff;}#sk-container-id-7 input.sk-toggleable__control:checked~div.sk-toggleable__content {max-height: 200px;max-width: 100%;overflow: auto;}#sk-container-id-7 input.sk-toggleable__control:checked~label.sk-toggleable__label-arrow:before {content: \"▾\";}#sk-container-id-7 div.sk-estimator input.sk-toggleable__control:checked~label.sk-toggleable__label {background-color: #d4ebff;}#sk-container-id-7 div.sk-label input.sk-toggleable__control:checked~label.sk-toggleable__label {background-color: #d4ebff;}#sk-container-id-7 input.sk-hidden--visually {border: 0;clip: rect(1px 1px 1px 1px);clip: rect(1px, 1px, 1px, 1px);height: 1px;margin: -1px;overflow: hidden;padding: 0;position: absolute;width: 1px;}#sk-container-id-7 div.sk-estimator {font-family: monospace;background-color: #f0f8ff;border: 1px dotted black;border-radius: 0.25em;box-sizing: border-box;margin-bottom: 0.5em;}#sk-container-id-7 div.sk-estimator:hover {background-color: #d4ebff;}#sk-container-id-7 div.sk-parallel-item::after {content: \"\";width: 100%;border-bottom: 1px solid gray;flex-grow: 1;}#sk-container-id-7 div.sk-label:hover label.sk-toggleable__label {background-color: #d4ebff;}#sk-container-id-7 div.sk-serial::before {content: \"\";position: absolute;border-left: 1px solid gray;box-sizing: border-box;top: 0;bottom: 0;left: 50%;z-index: 0;}#sk-container-id-7 div.sk-serial {display: flex;flex-direction: column;align-items: center;background-color: white;padding-right: 0.2em;padding-left: 0.2em;position: relative;}#sk-container-id-7 div.sk-item {position: relative;z-index: 1;}#sk-container-id-7 div.sk-parallel {display: flex;align-items: stretch;justify-content: center;background-color: white;position: relative;}#sk-container-id-7 div.sk-item::before, #sk-container-id-7 div.sk-parallel-item::before {content: \"\";position: absolute;border-left: 1px solid gray;box-sizing: border-box;top: 0;bottom: 0;left: 50%;z-index: -1;}#sk-container-id-7 div.sk-parallel-item {display: flex;flex-direction: column;z-index: 1;position: relative;background-color: white;}#sk-container-id-7 div.sk-parallel-item:first-child::after {align-self: flex-end;width: 50%;}#sk-container-id-7 div.sk-parallel-item:last-child::after {align-self: flex-start;width: 50%;}#sk-container-id-7 div.sk-parallel-item:only-child::after {width: 0;}#sk-container-id-7 div.sk-dashed-wrapped {border: 1px dashed gray;margin: 0 0.4em 0.5em 0.4em;box-sizing: border-box;padding-bottom: 0.4em;background-color: white;}#sk-container-id-7 div.sk-label label {font-family: monospace;font-weight: bold;display: inline-block;line-height: 1.2em;}#sk-container-id-7 div.sk-label-container {text-align: center;}#sk-container-id-7 div.sk-container {/* jupyter's `normalize.less` sets `[hidden] { display: none; }` but bootstrap.min.css set `[hidden] { display: none !important; }` so we also need the `!important` here to be able to override the default hidden behavior on the sphinx rendered scikit-learn.org. See: https://github.com/scikit-learn/scikit-learn/issues/21755 */display: inline-block !important;position: relative;}#sk-container-id-7 div.sk-text-repr-fallback {display: none;}</style><div id=\"sk-container-id-7\" class=\"sk-top-container\"><div class=\"sk-text-repr-fallback\"><pre>DecisionTreeClassifier(criterion=&#x27;entropy&#x27;, max_features=6)</pre><b>In a Jupyter environment, please rerun this cell to show the HTML representation or trust the notebook. <br />On GitHub, the HTML representation is unable to render, please try loading this page with nbviewer.org.</b></div><div class=\"sk-container\" hidden><div class=\"sk-item\"><div class=\"sk-estimator sk-toggleable\"><input class=\"sk-toggleable__control sk-hidden--visually\" id=\"sk-estimator-id-7\" type=\"checkbox\" checked><label for=\"sk-estimator-id-7\" class=\"sk-toggleable__label sk-toggleable__label-arrow\">DecisionTreeClassifier</label><div class=\"sk-toggleable__content\"><pre>DecisionTreeClassifier(criterion=&#x27;entropy&#x27;, max_features=6)</pre></div></div></div></div></div>"
      ],
      "text/plain": [
       "DecisionTreeClassifier(criterion='entropy', max_features=6)"
      ]
     },
     "execution_count": 188,
     "metadata": {},
     "output_type": "execute_result"
    }
   ],
   "source": [
    "opt = optimization.best_estimator_\n",
    "opt"
   ]
  },
  {
   "cell_type": "code",
   "execution_count": 189,
   "metadata": {},
   "outputs": [],
   "source": [
    "clf = optimization.best_estimator_\n",
    "clf = clf.fit(x_train_data,train_target)\n",
    "\n",
    "predict=clf.predict(x_test_data)"
   ]
  },
  {
   "cell_type": "code",
   "execution_count": 190,
   "metadata": {},
   "outputs": [
    {
     "name": "stdout",
     "output_type": "stream",
     "text": [
      "score:  0.6041360907271515\n"
     ]
    }
   ],
   "source": [
    "print(\"score: \",metrics.accuracy_score(test_target,predict))"
   ]
  },
  {
   "cell_type": "code",
   "execution_count": null,
   "metadata": {},
   "outputs": [],
   "source": []
  }
 ],
 "metadata": {
  "kernelspec": {
   "display_name": "Python 3 (ipykernel)",
   "language": "python",
   "name": "python3"
  },
  "language_info": {
   "codemirror_mode": {
    "name": "ipython",
    "version": 3
   },
   "file_extension": ".py",
   "mimetype": "text/x-python",
   "name": "python",
   "nbconvert_exporter": "python",
   "pygments_lexer": "ipython3",
   "version": "3.10.1"
  },
  "vscode": {
   "interpreter": {
    "hash": "e01f98c1efd1268bedfeafc745a32ce1740c9ed588db6de697bb135db4ef3f8f"
   }
  }
 },
 "nbformat": 4,
 "nbformat_minor": 2
}
