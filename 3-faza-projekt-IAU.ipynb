{
 "cells": [
  {
   "cell_type": "markdown",
   "metadata": {},
   "source": [
    "# IAU Projekt 3. fáza\n",
    "\n",
    "### Autori: Martin Raffáč (50%), Tibor Vanek (50%)\n",
    "\n",
    "dataset číslo **003**"
   ]
  },
  {
   "cell_type": "code",
   "execution_count": 3,
   "metadata": {},
   "outputs": [],
   "source": [
    "import pandas as pd\n",
    "import numpy as np\n",
    "from sklearn.metrics import confusion_matrix, classification_report\n",
    "from sklearn.model_selection import GridSearchCV\n",
    "from sklearn.tree import DecisionTreeClassifier\n",
    "from sklearn import tree, metrics\n",
    "from pandas import read_csv\n",
    "import seaborn as sns\n",
    "from matplotlib import pyplot as plt\n",
    "from scipy import stats\n",
    "from sklearn.model_selection import RandomizedSearchCV\n",
    "from matplotlib import pyplot\n",
    "import os\n",
    "#import graphviz \n",
    "#import pydot\n",
    "from IPython.display import Image\n",
    "from sklearn.metrics import accuracy_score\n",
    "from sklearn.metrics import precision_score\n",
    "from sklearn.metrics import recall_score\n",
    "from sklearn.model_selection import train_test_split\n",
    "from sklearn.ensemble import RandomForestClassifier\n",
    "from sklearn.model_selection import GridSearchCV\n",
    "from sklearn.metrics import accuracy_score\n",
    "from sklearn.model_selection import validation_curve\n",
    "from sklearn.datasets import make_friedman1\n",
    "from sklearn.feature_selection import RFE\n",
    "from sklearn.svm import SVR\n",
    "from sklearn.feature_selection import VarianceThreshold"
   ]
  },
  {
   "cell_type": "code",
   "execution_count": 20,
   "metadata": {},
   "outputs": [],
   "source": [
    "train_data = pd.read_csv(\"num_data.csv\", sep=',')\n",
    "test_data = pd.read_csv(\"test_data.csv\", sep=',')"
   ]
  },
  {
   "cell_type": "markdown",
   "metadata": {},
   "source": [
    "Náčítanie trénovacích dát."
   ]
  },
  {
   "cell_type": "code",
   "execution_count": 21,
   "metadata": {},
   "outputs": [],
   "source": [
    "data_for_oneR = train_data.copy()"
   ]
  },
  {
   "cell_type": "markdown",
   "metadata": {},
   "source": [
    "## 1. Jednoduchý klasifikátor na základe závislosti v dátach "
   ]
  },
  {
   "cell_type": "code",
   "execution_count": 22,
   "metadata": {},
   "outputs": [],
   "source": [
    "def oneR(column):\n",
    "\n",
    "    split = (data_for_oneR[column][data_for_oneR['warning'] == 0].mean() + data_for_oneR[column][data_for_oneR['warning'] == 1].mean())/2\n",
    "    group = data_for_oneR[data_for_oneR[column] > split]\n",
    "    group = group.groupby('warning').size()\n",
    "\n",
    "    if group[0] > group[1]:\n",
    "        left = 1\n",
    "        right = 0\n",
    "    else:\n",
    "        left = 0\n",
    "        right = 1\n",
    "        \n",
    "    predict = {\"split\": split, \"left\": left, \"right\": right}\n",
    "    \n",
    "    data_for_oneR.loc[data_for_oneR[column] < predict[\"split\"], 'helper'] = predict[\"left\"]\n",
    "    data_for_oneR.loc[data_for_oneR[column] >= predict[\"split\"], 'helper'] = predict[\"right\"]\n",
    "    accuracy = accuracy_score(data_for_oneR['warning'], data_for_oneR['helper'])\n",
    "    precision = precision_score(data_for_oneR['warning'], data_for_oneR['helper'])\n",
    "    recall = recall_score(data_for_oneR['warning'], data_for_oneR['helper'])\n",
    "    total=(accuracy + precision + recall) / 3\n",
    "    data_for_oneR.drop('helper', axis=1, inplace=True)\n",
    "\n",
    "    return {\"accuracy\": accuracy, \"precision\": precision, \"recall\": recall ,\"total\": total}"
   ]
  },
  {
   "cell_type": "code",
   "execution_count": 23,
   "metadata": {},
   "outputs": [
    {
     "name": "stdout",
     "output_type": "stream",
     "text": [
      "best oneR: PAHs\n",
      "total_score: 0.820169400418461\n",
      "accuracy_score: 0.8000369503633452\n",
      "precision_score: 0.855394280762565\n",
      "recall_score: 0.8050769701294729\n"
     ]
    }
   ],
   "source": [
    "accuracy = 0 \n",
    "columns =  data_for_oneR.columns\n",
    "\n",
    "for i in columns:\n",
    "    if i == 'warning':\n",
    "        continue\n",
    "\n",
    "    data_oneR = oneR(i)\n",
    "    \n",
    "    if data_oneR[\"total\"] > accuracy:\n",
    "        best = i\n",
    "        accuracy = data_oneR[\"total\"]\n",
    "        best_column = data_oneR\n",
    "        \n",
    "print('best oneR: ' + best)\n",
    "print('total_score: ' + str(best_column[\"total\"]))\n",
    "print('accuracy_score: ' + str(best_column[\"accuracy\"]))\n",
    "print('precision_score: ' + str(best_column[\"precision\"]))\n",
    "print('recall_score: ' + str(best_column[\"recall\"]))"
   ]
  },
  {
   "cell_type": "markdown",
   "metadata": {},
   "source": [
    "Podľa zadania sme zhotovili jednoduchý algoritmus oneR, ktorý sme vložili do funkcie. Následne sme ho vyskúšali na trénovacom datasete, predpokladali sme, že najlepší výsledok dosiahne atrihút PAHs, pretože má najvyššiu koreláciu s atribútom warning. Ako je možné vidieť vyššie naše predpoklady sa naplinili.  "
   ]
  },
  {
   "cell_type": "markdown",
   "metadata": {},
   "source": [
    "## 2. Trénovanie a vyhodnotenie klasifikátorov strojového učenia"
   ]
  },
  {
   "cell_type": "code",
   "execution_count": 24,
   "metadata": {},
   "outputs": [],
   "source": [
    "# treba trochu precistit dataset\n",
    "train_data.drop([\"Unnamed: 0\"], axis= \"columns\", inplace = True)\n",
    "test_data.drop([\"Unnamed: 0\", \"station\", \"QoS\", \"code\", \"revision\"], axis= \"columns\", inplace = True)"
   ]
  },
  {
   "cell_type": "code",
   "execution_count": 25,
   "metadata": {},
   "outputs": [
    {
     "data": {
      "text/html": [
       "<div>\n",
       "<style scoped>\n",
       "    .dataframe tbody tr th:only-of-type {\n",
       "        vertical-align: middle;\n",
       "    }\n",
       "\n",
       "    .dataframe tbody tr th {\n",
       "        vertical-align: top;\n",
       "    }\n",
       "\n",
       "    .dataframe thead th {\n",
       "        text-align: right;\n",
       "    }\n",
       "</style>\n",
       "<table border=\"1\" class=\"dataframe\">\n",
       "  <thead>\n",
       "    <tr style=\"text-align: right;\">\n",
       "      <th></th>\n",
       "      <th>longitude</th>\n",
       "      <th>C2H3NO5</th>\n",
       "      <th>O3</th>\n",
       "      <th>CO</th>\n",
       "      <th>warning</th>\n",
       "      <th>Pb</th>\n",
       "      <th>PAHs</th>\n",
       "      <th>PM2.5</th>\n",
       "      <th>PRES</th>\n",
       "      <th>TEMP</th>\n",
       "      <th>latitude</th>\n",
       "      <th>NH3</th>\n",
       "      <th>H2CO</th>\n",
       "      <th>SO2</th>\n",
       "      <th>CH4</th>\n",
       "      <th>PM10</th>\n",
       "      <th>CFCs</th>\n",
       "      <th>NOx</th>\n",
       "    </tr>\n",
       "  </thead>\n",
       "  <tbody>\n",
       "    <tr>\n",
       "      <th>0</th>\n",
       "      <td>100.48528</td>\n",
       "      <td>-0.988925</td>\n",
       "      <td>0.058518</td>\n",
       "      <td>0.472218</td>\n",
       "      <td>0.0</td>\n",
       "      <td>-1.036050</td>\n",
       "      <td>0.139994</td>\n",
       "      <td>-0.351726</td>\n",
       "      <td>1093.53327</td>\n",
       "      <td>1.608651</td>\n",
       "      <td>14.37395</td>\n",
       "      <td>-1.412422</td>\n",
       "      <td>0.500246</td>\n",
       "      <td>0.300432</td>\n",
       "      <td>-0.590449</td>\n",
       "      <td>-1.030510</td>\n",
       "      <td>1.690662</td>\n",
       "      <td>-0.301396</td>\n",
       "    </tr>\n",
       "    <tr>\n",
       "      <th>1</th>\n",
       "      <td>-0.36053</td>\n",
       "      <td>1.551800</td>\n",
       "      <td>-0.626781</td>\n",
       "      <td>-1.613285</td>\n",
       "      <td>1.0</td>\n",
       "      <td>1.520113</td>\n",
       "      <td>-0.790978</td>\n",
       "      <td>1.154782</td>\n",
       "      <td>1118.37192</td>\n",
       "      <td>1.740222</td>\n",
       "      <td>51.64316</td>\n",
       "      <td>0.946287</td>\n",
       "      <td>0.165570</td>\n",
       "      <td>-1.392993</td>\n",
       "      <td>-0.314318</td>\n",
       "      <td>1.626329</td>\n",
       "      <td>0.159929</td>\n",
       "      <td>0.465988</td>\n",
       "    </tr>\n",
       "    <tr>\n",
       "      <th>2</th>\n",
       "      <td>14.43865</td>\n",
       "      <td>0.319269</td>\n",
       "      <td>-0.580360</td>\n",
       "      <td>-1.663408</td>\n",
       "      <td>0.0</td>\n",
       "      <td>0.053987</td>\n",
       "      <td>-0.503498</td>\n",
       "      <td>1.429077</td>\n",
       "      <td>1094.41100</td>\n",
       "      <td>1.112599</td>\n",
       "      <td>40.87329</td>\n",
       "      <td>-0.969990</td>\n",
       "      <td>1.234351</td>\n",
       "      <td>0.287037</td>\n",
       "      <td>-0.806828</td>\n",
       "      <td>0.469712</td>\n",
       "      <td>-1.326587</td>\n",
       "      <td>-0.337107</td>\n",
       "    </tr>\n",
       "    <tr>\n",
       "      <th>3</th>\n",
       "      <td>24.71204</td>\n",
       "      <td>0.320362</td>\n",
       "      <td>0.272431</td>\n",
       "      <td>1.001950</td>\n",
       "      <td>1.0</td>\n",
       "      <td>0.053987</td>\n",
       "      <td>-0.112200</td>\n",
       "      <td>0.056088</td>\n",
       "      <td>1182.40644</td>\n",
       "      <td>0.688404</td>\n",
       "      <td>41.57439</td>\n",
       "      <td>0.299717</td>\n",
       "      <td>0.661930</td>\n",
       "      <td>1.213528</td>\n",
       "      <td>1.649839</td>\n",
       "      <td>0.408672</td>\n",
       "      <td>-1.702616</td>\n",
       "      <td>-0.963824</td>\n",
       "    </tr>\n",
       "    <tr>\n",
       "      <th>4</th>\n",
       "      <td>4.82313</td>\n",
       "      <td>0.577169</td>\n",
       "      <td>0.501217</td>\n",
       "      <td>-2.083606</td>\n",
       "      <td>1.0</td>\n",
       "      <td>-0.580490</td>\n",
       "      <td>0.109449</td>\n",
       "      <td>-0.237828</td>\n",
       "      <td>1179.09201</td>\n",
       "      <td>-1.074901</td>\n",
       "      <td>51.24197</td>\n",
       "      <td>0.689095</td>\n",
       "      <td>0.941189</td>\n",
       "      <td>2.031372</td>\n",
       "      <td>-0.440101</td>\n",
       "      <td>0.678103</td>\n",
       "      <td>-0.294534</td>\n",
       "      <td>-0.048687</td>\n",
       "    </tr>\n",
       "  </tbody>\n",
       "</table>\n",
       "</div>"
      ],
      "text/plain": [
       "   longitude   C2H3NO5        O3        CO  warning        Pb      PAHs  \\\n",
       "0  100.48528 -0.988925  0.058518  0.472218      0.0 -1.036050  0.139994   \n",
       "1   -0.36053  1.551800 -0.626781 -1.613285      1.0  1.520113 -0.790978   \n",
       "2   14.43865  0.319269 -0.580360 -1.663408      0.0  0.053987 -0.503498   \n",
       "3   24.71204  0.320362  0.272431  1.001950      1.0  0.053987 -0.112200   \n",
       "4    4.82313  0.577169  0.501217 -2.083606      1.0 -0.580490  0.109449   \n",
       "\n",
       "      PM2.5        PRES      TEMP  latitude       NH3      H2CO       SO2  \\\n",
       "0 -0.351726  1093.53327  1.608651  14.37395 -1.412422  0.500246  0.300432   \n",
       "1  1.154782  1118.37192  1.740222  51.64316  0.946287  0.165570 -1.392993   \n",
       "2  1.429077  1094.41100  1.112599  40.87329 -0.969990  1.234351  0.287037   \n",
       "3  0.056088  1182.40644  0.688404  41.57439  0.299717  0.661930  1.213528   \n",
       "4 -0.237828  1179.09201 -1.074901  51.24197  0.689095  0.941189  2.031372   \n",
       "\n",
       "        CH4      PM10      CFCs       NOx  \n",
       "0 -0.590449 -1.030510  1.690662 -0.301396  \n",
       "1 -0.314318  1.626329  0.159929  0.465988  \n",
       "2 -0.806828  0.469712 -1.326587 -0.337107  \n",
       "3  1.649839  0.408672 -1.702616 -0.963824  \n",
       "4 -0.440101  0.678103 -0.294534 -0.048687  "
      ]
     },
     "execution_count": 25,
     "metadata": {},
     "output_type": "execute_result"
    }
   ],
   "source": [
    "train_data.head()"
   ]
  },
  {
   "cell_type": "code",
   "execution_count": 26,
   "metadata": {},
   "outputs": [
    {
     "data": {
      "text/html": [
       "<div>\n",
       "<style scoped>\n",
       "    .dataframe tbody tr th:only-of-type {\n",
       "        vertical-align: middle;\n",
       "    }\n",
       "\n",
       "    .dataframe tbody tr th {\n",
       "        vertical-align: top;\n",
       "    }\n",
       "\n",
       "    .dataframe thead th {\n",
       "        text-align: right;\n",
       "    }\n",
       "</style>\n",
       "<table border=\"1\" class=\"dataframe\">\n",
       "  <thead>\n",
       "    <tr style=\"text-align: right;\">\n",
       "      <th></th>\n",
       "      <th>longitude</th>\n",
       "      <th>C2H3NO5</th>\n",
       "      <th>O3</th>\n",
       "      <th>CO</th>\n",
       "      <th>warning</th>\n",
       "      <th>Pb</th>\n",
       "      <th>PAHs</th>\n",
       "      <th>PM2.5</th>\n",
       "      <th>PRES</th>\n",
       "      <th>TEMP</th>\n",
       "      <th>latitude</th>\n",
       "      <th>NH3</th>\n",
       "      <th>H2CO</th>\n",
       "      <th>SO2</th>\n",
       "      <th>CH4</th>\n",
       "      <th>PM10</th>\n",
       "      <th>CFCs</th>\n",
       "      <th>NOx</th>\n",
       "    </tr>\n",
       "  </thead>\n",
       "  <tbody>\n",
       "    <tr>\n",
       "      <th>0</th>\n",
       "      <td>38.94324</td>\n",
       "      <td>0.13183</td>\n",
       "      <td>8.248325</td>\n",
       "      <td>9.48384</td>\n",
       "      <td>1.0</td>\n",
       "      <td>58.48010</td>\n",
       "      <td>10.42184</td>\n",
       "      <td>8.417320</td>\n",
       "      <td>1090.30322</td>\n",
       "      <td>14.126170</td>\n",
       "      <td>44.98901</td>\n",
       "      <td>7.11177</td>\n",
       "      <td>51.44724</td>\n",
       "      <td>9.35083</td>\n",
       "      <td>7.49250</td>\n",
       "      <td>9.08444</td>\n",
       "      <td>66.96240</td>\n",
       "      <td>5.77666</td>\n",
       "    </tr>\n",
       "    <tr>\n",
       "      <th>1</th>\n",
       "      <td>32.61780</td>\n",
       "      <td>0.02804</td>\n",
       "      <td>9.448520</td>\n",
       "      <td>8.03649</td>\n",
       "      <td>1.0</td>\n",
       "      <td>61.09519</td>\n",
       "      <td>11.21345</td>\n",
       "      <td>8.233004</td>\n",
       "      <td>1157.97224</td>\n",
       "      <td>14.973664</td>\n",
       "      <td>46.65581</td>\n",
       "      <td>8.29339</td>\n",
       "      <td>58.99936</td>\n",
       "      <td>9.39010</td>\n",
       "      <td>9.64957</td>\n",
       "      <td>5.89985</td>\n",
       "      <td>41.22635</td>\n",
       "      <td>6.95862</td>\n",
       "    </tr>\n",
       "    <tr>\n",
       "      <th>2</th>\n",
       "      <td>73.97117</td>\n",
       "      <td>0.12437</td>\n",
       "      <td>7.829170</td>\n",
       "      <td>6.90284</td>\n",
       "      <td>0.0</td>\n",
       "      <td>61.35281</td>\n",
       "      <td>6.14786</td>\n",
       "      <td>7.280000</td>\n",
       "      <td>1071.16983</td>\n",
       "      <td>10.045570</td>\n",
       "      <td>31.96258</td>\n",
       "      <td>7.71044</td>\n",
       "      <td>22.22368</td>\n",
       "      <td>7.55998</td>\n",
       "      <td>6.72176</td>\n",
       "      <td>9.01297</td>\n",
       "      <td>41.42187</td>\n",
       "      <td>8.31541</td>\n",
       "    </tr>\n",
       "    <tr>\n",
       "      <th>3</th>\n",
       "      <td>-84.50855</td>\n",
       "      <td>0.02894</td>\n",
       "      <td>7.698090</td>\n",
       "      <td>7.13135</td>\n",
       "      <td>0.0</td>\n",
       "      <td>50.68639</td>\n",
       "      <td>7.12656</td>\n",
       "      <td>8.275930</td>\n",
       "      <td>1178.66689</td>\n",
       "      <td>16.018260</td>\n",
       "      <td>39.08367</td>\n",
       "      <td>6.20525</td>\n",
       "      <td>17.19647</td>\n",
       "      <td>11.15363</td>\n",
       "      <td>5.80424</td>\n",
       "      <td>5.98455</td>\n",
       "      <td>36.00290</td>\n",
       "      <td>9.34310</td>\n",
       "    </tr>\n",
       "    <tr>\n",
       "      <th>4</th>\n",
       "      <td>102.42587</td>\n",
       "      <td>0.10899</td>\n",
       "      <td>7.968050</td>\n",
       "      <td>8.02041</td>\n",
       "      <td>0.0</td>\n",
       "      <td>64.87452</td>\n",
       "      <td>6.45482</td>\n",
       "      <td>9.182210</td>\n",
       "      <td>1136.43996</td>\n",
       "      <td>-1.956460</td>\n",
       "      <td>15.58552</td>\n",
       "      <td>4.86341</td>\n",
       "      <td>56.22373</td>\n",
       "      <td>9.20487</td>\n",
       "      <td>6.26369</td>\n",
       "      <td>8.81516</td>\n",
       "      <td>51.06180</td>\n",
       "      <td>7.30979</td>\n",
       "    </tr>\n",
       "  </tbody>\n",
       "</table>\n",
       "</div>"
      ],
      "text/plain": [
       "   longitude  C2H3NO5        O3       CO  warning        Pb      PAHs  \\\n",
       "0   38.94324  0.13183  8.248325  9.48384      1.0  58.48010  10.42184   \n",
       "1   32.61780  0.02804  9.448520  8.03649      1.0  61.09519  11.21345   \n",
       "2   73.97117  0.12437  7.829170  6.90284      0.0  61.35281   6.14786   \n",
       "3  -84.50855  0.02894  7.698090  7.13135      0.0  50.68639   7.12656   \n",
       "4  102.42587  0.10899  7.968050  8.02041      0.0  64.87452   6.45482   \n",
       "\n",
       "      PM2.5        PRES       TEMP  latitude      NH3      H2CO       SO2  \\\n",
       "0  8.417320  1090.30322  14.126170  44.98901  7.11177  51.44724   9.35083   \n",
       "1  8.233004  1157.97224  14.973664  46.65581  8.29339  58.99936   9.39010   \n",
       "2  7.280000  1071.16983  10.045570  31.96258  7.71044  22.22368   7.55998   \n",
       "3  8.275930  1178.66689  16.018260  39.08367  6.20525  17.19647  11.15363   \n",
       "4  9.182210  1136.43996  -1.956460  15.58552  4.86341  56.22373   9.20487   \n",
       "\n",
       "       CH4     PM10      CFCs      NOx  \n",
       "0  7.49250  9.08444  66.96240  5.77666  \n",
       "1  9.64957  5.89985  41.22635  6.95862  \n",
       "2  6.72176  9.01297  41.42187  8.31541  \n",
       "3  5.80424  5.98455  36.00290  9.34310  \n",
       "4  6.26369  8.81516  51.06180  7.30979  "
      ]
     },
     "execution_count": 26,
     "metadata": {},
     "output_type": "execute_result"
    }
   ],
   "source": [
    "test_data.head()"
   ]
  },
  {
   "cell_type": "markdown",
   "metadata": {},
   "source": [
    "Stĺpec warning si oddelíme od datasetu do samostatných premenných"
   ]
  },
  {
   "cell_type": "code",
   "execution_count": 27,
   "metadata": {},
   "outputs": [],
   "source": [
    "train_target = train_data[\"warning\"]\n",
    "test_target = test_data[\"warning\"]\n",
    "\n",
    "#use_train_data = train_data.drop(['warning'], axis = \"columns\")\n",
    "#use_test_data = test_data.drop(['warning'], axis = \"columns\")\n",
    "\n",
    "x_train_data = train_data[['CH4', 'O3', 'PM2.5', 'SO2', 'longitude', 'latitude', 'C2H3NO5', 'CO', 'NH3', 'NOx']]\n",
    "x_test_data = test_data[['CH4', 'O3', 'PM2.5', 'SO2', 'longitude', 'latitude', 'C2H3NO5', 'CO', 'NH3', 'NOx']]\n",
    "# vybrane atributy podla WAQI indexu a najvyssich korelacii"
   ]
  },
  {
   "cell_type": "code",
   "execution_count": 28,
   "metadata": {},
   "outputs": [
    {
     "name": "stdout",
     "output_type": "stream",
     "text": [
      "Score:  0.5854774156660949\n"
     ]
    }
   ],
   "source": [
    "dtf = tree.DecisionTreeClassifier()\n",
    "dtf.fit(x_train_data, train_target)\n",
    "prediction = dtf.predict(x_test_data)\n",
    "print(\"Score: \", dtf.score(x_test_data, test_target))"
   ]
  },
  {
   "cell_type": "code",
   "execution_count": 29,
   "metadata": {},
   "outputs": [
    {
     "name": "stdout",
     "output_type": "stream",
     "text": [
      "              precision    recall  f1-score   support\n",
      "\n",
      "           0       0.40      0.05      0.09      3532\n",
      "           1       0.60      0.95      0.73      5213\n",
      "\n",
      "    accuracy                           0.59      8745\n",
      "   macro avg       0.50      0.50      0.41      8745\n",
      "weighted avg       0.52      0.59      0.47      8745\n",
      "\n",
      "Accuracy: 0.5854774156660949\n",
      "Precision: 0.5956857073993733\n",
      "Recall: 0.9482064070592748\n"
     ]
    }
   ],
   "source": [
    "print(classification_report(test_target, prediction, target_names = [\"0\",\"1\"]))\n",
    "\n",
    "print(\"Accuracy:\", accuracy_score(test_target, prediction))\n",
    "print(\"Precision:\", precision_score(test_target, prediction))\n",
    "print(\"Recall:\", recall_score(test_target, prediction))"
   ]
  },
  {
   "cell_type": "code",
   "execution_count": 37,
   "metadata": {},
   "outputs": [
    {
     "data": {
      "image/png": "[encoded data removed]",
      "text/plain": [
       "<Figure size 640x480 with 2 Axes>"
      ]
     },
     "metadata": {},
     "output_type": "display_data"
    }
   ],
   "source": [
    "# vizualizacia\n",
    "cm = confusion_matrix(test_target, prediction)\n",
    "sns.heatmap(cm.T, annot=True, fmt='d')\n",
    "plt.xlabel('real target'); plt.ylabel('prediction target');"
   ]
  },
  {
   "cell_type": "markdown",
   "metadata": {},
   "source": [
    "V tomto obrázku môžeme vidieť, že model má problémy s klasifikovaním nulovej hodnoty."
   ]
  },
  {
   "cell_type": "code",
   "execution_count": 111,
   "metadata": {},
   "outputs": [],
   "source": [
    "# graphviz nefungoval, toto je prilis velky obrazok\n",
    "#fig = plt.figure(figsize = (15, 20))\n",
    "#_ = tree.plot_tree(dtf, feature_names = use_test_data.columns, class_names = [\"1\",\"0\"], filled = True)\n",
    "#fig.savefig(\"strom.png\")"
   ]
  },
  {
   "cell_type": "markdown",
   "metadata": {},
   "source": [
    "## 3. Optimalizácia alias hyperparameter tuning"
   ]
  },
  {
   "cell_type": "markdown",
   "metadata": {},
   "source": [
    "Preskúmanie hyperparametrov\n",
    "\n",
    "1. criterion je funkcia, ktorá meria kvalitu rozdelenia. Obsahuje hodnoty gini a entropy\n",
    "\n",
    "2. splitter je stratégia rozdelenia, ktorá sa používa na všetkých uzloch stromu. využíva stratégie best a random.\n",
    "\n",
    "3. max_depth je maximalna hĺbka stromu.\n",
    "\n",
    "4. max_features charakterizuje počet stĺpcov, ktoré sa berú na vedomie pri hľadaní najlepšieho rozdelenia. Do max_depth a max_features sme vložili rozsah hodnôt."
   ]
  },
  {
   "cell_type": "code",
   "execution_count": 67,
   "metadata": {},
   "outputs": [],
   "source": [
    "parameters = {'criterion': ('gini','entropy'), 'splitter': ('best','random'), 'max_features':range(1,20,1)}\n",
    "optimization = GridSearchCV(dtf, parameters,cv=3,scoring=\"accuracy\")\n",
    "result = optimization.fit(x_train_data, train_target)"
   ]
  },
  {
   "cell_type": "markdown",
   "metadata": {},
   "source": [
    "Na vytvorenie modelu pre všetky kombinácie sme využili metódu GridSearchCV() "
   ]
  },
  {
   "cell_type": "code",
   "execution_count": 68,
   "metadata": {},
   "outputs": [
    {
     "data": {
      "text/plain": [
       "{'criterion': 'entropy', 'max_features': 5, 'splitter': 'best'}"
      ]
     },
     "execution_count": 68,
     "metadata": {},
     "output_type": "execute_result"
    }
   ],
   "source": [
    "params = optimization.best_params_\n",
    "params"
   ]
  },
  {
   "cell_type": "code",
   "execution_count": 69,
   "metadata": {},
   "outputs": [
    {
     "data": {
      "text/html": [
       "<div>\n",
       "<style scoped>\n",
       "    .dataframe tbody tr th:only-of-type {\n",
       "        vertical-align: middle;\n",
       "    }\n",
       "\n",
       "    .dataframe tbody tr th {\n",
       "        vertical-align: top;\n",
       "    }\n",
       "\n",
       "    .dataframe thead th {\n",
       "        text-align: right;\n",
       "    }\n",
       "</style>\n",
       "<table border=\"1\" class=\"dataframe\">\n",
       "  <thead>\n",
       "    <tr style=\"text-align: right;\">\n",
       "      <th></th>\n",
       "      <th>mean_fit_time</th>\n",
       "      <th>std_fit_time</th>\n",
       "      <th>mean_score_time</th>\n",
       "      <th>std_score_time</th>\n",
       "      <th>param_criterion</th>\n",
       "      <th>param_max_features</th>\n",
       "      <th>param_splitter</th>\n",
       "      <th>params</th>\n",
       "      <th>split0_test_score</th>\n",
       "      <th>split1_test_score</th>\n",
       "      <th>split2_test_score</th>\n",
       "      <th>mean_test_score</th>\n",
       "      <th>std_test_score</th>\n",
       "      <th>rank_test_score</th>\n",
       "    </tr>\n",
       "  </thead>\n",
       "  <tbody>\n",
       "    <tr>\n",
       "      <th>0</th>\n",
       "      <td>0.015625</td>\n",
       "      <td>0.000026</td>\n",
       "      <td>0.005205</td>\n",
       "      <td>0.007361</td>\n",
       "      <td>gini</td>\n",
       "      <td>1</td>\n",
       "      <td>best</td>\n",
       "      <td>{'criterion': 'gini', 'max_features': 1, 'spli...</td>\n",
       "      <td>0.914096</td>\n",
       "      <td>0.904304</td>\n",
       "      <td>0.914449</td>\n",
       "      <td>0.910950</td>\n",
       "      <td>0.004701</td>\n",
       "      <td>70</td>\n",
       "    </tr>\n",
       "    <tr>\n",
       "      <th>1</th>\n",
       "      <td>0.007400</td>\n",
       "      <td>0.006422</td>\n",
       "      <td>0.000000</td>\n",
       "      <td>0.000000</td>\n",
       "      <td>gini</td>\n",
       "      <td>1</td>\n",
       "      <td>random</td>\n",
       "      <td>{'criterion': 'gini', 'max_features': 1, 'spli...</td>\n",
       "      <td>0.864585</td>\n",
       "      <td>0.891188</td>\n",
       "      <td>0.860126</td>\n",
       "      <td>0.871966</td>\n",
       "      <td>0.013713</td>\n",
       "      <td>75</td>\n",
       "    </tr>\n",
       "    <tr>\n",
       "      <th>2</th>\n",
       "      <td>0.028943</td>\n",
       "      <td>0.003253</td>\n",
       "      <td>0.000000</td>\n",
       "      <td>0.000000</td>\n",
       "      <td>gini</td>\n",
       "      <td>2</td>\n",
       "      <td>best</td>\n",
       "      <td>{'criterion': 'gini', 'max_features': 2, 'spli...</td>\n",
       "      <td>0.915943</td>\n",
       "      <td>0.912433</td>\n",
       "      <td>0.924427</td>\n",
       "      <td>0.917601</td>\n",
       "      <td>0.005035</td>\n",
       "      <td>66</td>\n",
       "    </tr>\n",
       "    <tr>\n",
       "      <th>3</th>\n",
       "      <td>0.010245</td>\n",
       "      <td>0.000007</td>\n",
       "      <td>0.000000</td>\n",
       "      <td>0.000000</td>\n",
       "      <td>gini</td>\n",
       "      <td>2</td>\n",
       "      <td>random</td>\n",
       "      <td>{'criterion': 'gini', 'max_features': 2, 'spli...</td>\n",
       "      <td>0.887308</td>\n",
       "      <td>0.895991</td>\n",
       "      <td>0.912232</td>\n",
       "      <td>0.898511</td>\n",
       "      <td>0.010330</td>\n",
       "      <td>74</td>\n",
       "    </tr>\n",
       "    <tr>\n",
       "      <th>4</th>\n",
       "      <td>0.031402</td>\n",
       "      <td>0.001001</td>\n",
       "      <td>0.002703</td>\n",
       "      <td>0.003823</td>\n",
       "      <td>gini</td>\n",
       "      <td>3</td>\n",
       "      <td>best</td>\n",
       "      <td>{'criterion': 'gini', 'max_features': 3, 'spli...</td>\n",
       "      <td>0.928321</td>\n",
       "      <td>0.925919</td>\n",
       "      <td>0.930340</td>\n",
       "      <td>0.928193</td>\n",
       "      <td>0.001807</td>\n",
       "      <td>44</td>\n",
       "    </tr>\n",
       "  </tbody>\n",
       "</table>\n",
       "</div>"
      ],
      "text/plain": [
       "   mean_fit_time  std_fit_time  mean_score_time  std_score_time  \\\n",
       "0       0.015625      0.000026         0.005205        0.007361   \n",
       "1       0.007400      0.006422         0.000000        0.000000   \n",
       "2       0.028943      0.003253         0.000000        0.000000   \n",
       "3       0.010245      0.000007         0.000000        0.000000   \n",
       "4       0.031402      0.001001         0.002703        0.003823   \n",
       "\n",
       "  param_criterion param_max_features param_splitter  \\\n",
       "0            gini                  1           best   \n",
       "1            gini                  1         random   \n",
       "2            gini                  2           best   \n",
       "3            gini                  2         random   \n",
       "4            gini                  3           best   \n",
       "\n",
       "                                              params  split0_test_score  \\\n",
       "0  {'criterion': 'gini', 'max_features': 1, 'spli...           0.914096   \n",
       "1  {'criterion': 'gini', 'max_features': 1, 'spli...           0.864585   \n",
       "2  {'criterion': 'gini', 'max_features': 2, 'spli...           0.915943   \n",
       "3  {'criterion': 'gini', 'max_features': 2, 'spli...           0.887308   \n",
       "4  {'criterion': 'gini', 'max_features': 3, 'spli...           0.928321   \n",
       "\n",
       "   split1_test_score  split2_test_score  mean_test_score  std_test_score  \\\n",
       "0           0.904304           0.914449         0.910950        0.004701   \n",
       "1           0.891188           0.860126         0.871966        0.013713   \n",
       "2           0.912433           0.924427         0.917601        0.005035   \n",
       "3           0.895991           0.912232         0.898511        0.010330   \n",
       "4           0.925919           0.930340         0.928193        0.001807   \n",
       "\n",
       "   rank_test_score  \n",
       "0               70  \n",
       "1               75  \n",
       "2               66  \n",
       "3               74  \n",
       "4               44  "
      ]
     },
     "execution_count": 69,
     "metadata": {},
     "output_type": "execute_result"
    }
   ],
   "source": [
    "tab = pd.DataFrame(optimization.cv_results_)\n",
    "tab.head()"
   ]
  },
  {
   "cell_type": "code",
   "execution_count": 70,
   "metadata": {},
   "outputs": [
    {
     "data": {
      "text/html": [
       "<style>#sk-container-id-1 {color: black;background-color: white;}#sk-container-id-1 pre{padding: 0;}#sk-container-id-1 div.sk-toggleable {background-color: white;}#sk-container-id-1 label.sk-toggleable__label {cursor: pointer;display: block;width: 100%;margin-bottom: 0;padding: 0.3em;box-sizing: border-box;text-align: center;}#sk-container-id-1 label.sk-toggleable__label-arrow:before {content: \"▸\";float: left;margin-right: 0.25em;color: #696969;}#sk-container-id-1 label.sk-toggleable__label-arrow:hover:before {color: black;}#sk-container-id-1 div.sk-estimator:hover label.sk-toggleable__label-arrow:before {color: black;}#sk-container-id-1 div.sk-toggleable__content {max-height: 0;max-width: 0;overflow: hidden;text-align: left;background-color: #f0f8ff;}#sk-container-id-1 div.sk-toggleable__content pre {margin: 0.2em;color: black;border-radius: 0.25em;background-color: #f0f8ff;}#sk-container-id-1 input.sk-toggleable__control:checked~div.sk-toggleable__content {max-height: 200px;max-width: 100%;overflow: auto;}#sk-container-id-1 input.sk-toggleable__control:checked~label.sk-toggleable__label-arrow:before {content: \"▾\";}#sk-container-id-1 div.sk-estimator input.sk-toggleable__control:checked~label.sk-toggleable__label {background-color: #d4ebff;}#sk-container-id-1 div.sk-label input.sk-toggleable__control:checked~label.sk-toggleable__label {background-color: #d4ebff;}#sk-container-id-1 input.sk-hidden--visually {border: 0;clip: rect(1px 1px 1px 1px);clip: rect(1px, 1px, 1px, 1px);height: 1px;margin: -1px;overflow: hidden;padding: 0;position: absolute;width: 1px;}#sk-container-id-1 div.sk-estimator {font-family: monospace;background-color: #f0f8ff;border: 1px dotted black;border-radius: 0.25em;box-sizing: border-box;margin-bottom: 0.5em;}#sk-container-id-1 div.sk-estimator:hover {background-color: #d4ebff;}#sk-container-id-1 div.sk-parallel-item::after {content: \"\";width: 100%;border-bottom: 1px solid gray;flex-grow: 1;}#sk-container-id-1 div.sk-label:hover label.sk-toggleable__label {background-color: #d4ebff;}#sk-container-id-1 div.sk-serial::before {content: \"\";position: absolute;border-left: 1px solid gray;box-sizing: border-box;top: 0;bottom: 0;left: 50%;z-index: 0;}#sk-container-id-1 div.sk-serial {display: flex;flex-direction: column;align-items: center;background-color: white;padding-right: 0.2em;padding-left: 0.2em;position: relative;}#sk-container-id-1 div.sk-item {position: relative;z-index: 1;}#sk-container-id-1 div.sk-parallel {display: flex;align-items: stretch;justify-content: center;background-color: white;position: relative;}#sk-container-id-1 div.sk-item::before, #sk-container-id-1 div.sk-parallel-item::before {content: \"\";position: absolute;border-left: 1px solid gray;box-sizing: border-box;top: 0;bottom: 0;left: 50%;z-index: -1;}#sk-container-id-1 div.sk-parallel-item {display: flex;flex-direction: column;z-index: 1;position: relative;background-color: white;}#sk-container-id-1 div.sk-parallel-item:first-child::after {align-self: flex-end;width: 50%;}#sk-container-id-1 div.sk-parallel-item:last-child::after {align-self: flex-start;width: 50%;}#sk-container-id-1 div.sk-parallel-item:only-child::after {width: 0;}#sk-container-id-1 div.sk-dashed-wrapped {border: 1px dashed gray;margin: 0 0.4em 0.5em 0.4em;box-sizing: border-box;padding-bottom: 0.4em;background-color: white;}#sk-container-id-1 div.sk-label label {font-family: monospace;font-weight: bold;display: inline-block;line-height: 1.2em;}#sk-container-id-1 div.sk-label-container {text-align: center;}#sk-container-id-1 div.sk-container {/* jupyter's `normalize.less` sets `[hidden] { display: none; }` but bootstrap.min.css set `[hidden] { display: none !important; }` so we also need the `!important` here to be able to override the default hidden behavior on the sphinx rendered scikit-learn.org. See: https://github.com/scikit-learn/scikit-learn/issues/21755 */display: inline-block !important;position: relative;}#sk-container-id-1 div.sk-text-repr-fallback {display: none;}</style><div id=\"sk-container-id-1\" class=\"sk-top-container\"><div class=\"sk-text-repr-fallback\"><pre>DecisionTreeClassifier(criterion=&#x27;entropy&#x27;, max_features=5)</pre><b>In a Jupyter environment, please rerun this cell to show the HTML representation or trust the notebook. <br />On GitHub, the HTML representation is unable to render, please try loading this page with nbviewer.org.</b></div><div class=\"sk-container\" hidden><div class=\"sk-item\"><div class=\"sk-estimator sk-toggleable\"><input class=\"sk-toggleable__control sk-hidden--visually\" id=\"sk-estimator-id-1\" type=\"checkbox\" checked><label for=\"sk-estimator-id-1\" class=\"sk-toggleable__label sk-toggleable__label-arrow\">DecisionTreeClassifier</label><div class=\"sk-toggleable__content\"><pre>DecisionTreeClassifier(criterion=&#x27;entropy&#x27;, max_features=5)</pre></div></div></div></div></div>"
      ],
      "text/plain": [
       "DecisionTreeClassifier(criterion='entropy', max_features=5)"
      ]
     },
     "execution_count": 70,
     "metadata": {},
     "output_type": "execute_result"
    }
   ],
   "source": [
    "opt = optimization.best_estimator_\n",
    "opt"
   ]
  },
  {
   "cell_type": "code",
   "execution_count": 71,
   "metadata": {},
   "outputs": [],
   "source": [
    "clf = optimization.best_estimator_\n",
    "clf = clf.fit(x_train_data,train_target)\n",
    "\n",
    "predict=clf.predict(x_test_data)"
   ]
  },
  {
   "cell_type": "code",
   "execution_count": 72,
   "metadata": {},
   "outputs": [
    {
     "name": "stdout",
     "output_type": "stream",
     "text": [
      "score:  0.5963407661520869\n"
     ]
    }
   ],
   "source": [
    "print(\"score: \",metrics.accuracy_score(test_target,predict))"
   ]
  },
  {
   "cell_type": "markdown",
   "metadata": {},
   "source": [
    "## 4. Vyhodnotenie vplyvu zvolenej stratégie riešenia na klasifikáciu "
   ]
  },
  {
   "cell_type": "markdown",
   "metadata": {},
   "source": [
    "**Výber atribútov**\n",
    "\n",
    "Atribúty, ktoré používame v modeloch sme určili na základe AQI indexu a podľa korelácií zistených v predchádzajúcej fáze. Predpokladáme, že tieto atribúty sú najviac relevantné k dosiahnutiu výsledkov."
   ]
  },
  {
   "cell_type": "markdown",
   "metadata": {},
   "source": [
    "<font color=\"red\">TODO zlepšuje scaling accuracy? </font>"
   ]
  },
  {
   "cell_type": "markdown",
   "metadata": {},
   "source": [
    "**Stratégia riešenia chýbajúcich hodnôť a outlierov**\n",
    "\n",
    "V predchádzajúcich fázach sme outliery odstránili, keďže by mohol model s ich použitím produkovať horšie predikcie a byť menej stabilný, s vyššou varianciou a preto tento krok považujeme za správny.\n",
    "\n",
    "Chýbajúce hodnoty sme nahradili pomocou priemeru z jednotlivých stĺpcov, aby sme tým nezvyšovali varianciu modelu a mali presnejšie dáta.\n"
   ]
  },
  {
   "cell_type": "code",
   "execution_count": 30,
   "metadata": {},
   "outputs": [],
   "source": [
    "train_target2 = train_data[\"warning\"]\n",
    "test_target2 = test_data[\"warning\"]\n",
    "\n",
    "x_train_data2 = train_data[['CH4', 'O3', 'PM2.5', 'SO2', 'longitude', 'latitude', 'C2H3NO5', 'CO', 'NH3', 'NOx']]\n",
    "x_test_data2 = test_data[['CH4', 'O3', 'PM2.5', 'SO2', 'longitude', 'latitude', 'C2H3NO5', 'CO', 'NH3', 'NOx']]"
   ]
  },
  {
   "cell_type": "markdown",
   "metadata": {},
   "source": [
    "**Hyperparameter tuning resp. ensemble learning**"
   ]
  },
  {
   "cell_type": "code",
   "execution_count": 73,
   "metadata": {},
   "outputs": [],
   "source": [
    "rfc = RandomForestClassifier(random_state = 7, n_estimators = 300, max_depth = None, min_samples_split = 2,  min_samples_leaf = 2) \n",
    "model = rfc.fit(x_train_data2, train_target2) \n",
    "predicted_ens = model.predict(x_test_data2)"
   ]
  },
  {
   "cell_type": "code",
   "execution_count": 74,
   "metadata": {},
   "outputs": [
    {
     "name": "stdout",
     "output_type": "stream",
     "text": [
      "Accuracy RFC: 0.5961120640365923\n"
     ]
    }
   ],
   "source": [
    "print(\"Accuracy RFC:\",accuracy_score(test_target2, predicted_ens))"
   ]
  },
  {
   "cell_type": "code",
   "execution_count": 75,
   "metadata": {},
   "outputs": [
    {
     "name": "stdout",
     "output_type": "stream",
     "text": [
      "Accuracy DTC:  0.5963407661520869\n"
     ]
    }
   ],
   "source": [
    "print(\"Accuracy DTC: \",metrics.accuracy_score(test_target,predict))"
   ]
  },
  {
   "cell_type": "markdown",
   "metadata": {},
   "source": [
    "Random forest classifier v tomto prípade produkuje horšie lepšie výsledky než decision tree classifier. RFC väčšinou zvyšuje presnosť modelu pomocou výberu z viacerých náhodne generovaných stromov."
   ]
  },
  {
   "cell_type": "code",
   "execution_count": null,
   "metadata": {},
   "outputs": [],
   "source": []
  }
 ],
 "metadata": {
  "kernelspec": {
   "display_name": "Python 3 (ipykernel)",
   "language": "python",
   "name": "python3"
  },
  "language_info": {
   "codemirror_mode": {
    "name": "ipython",
    "version": 3
   },
   "file_extension": ".py",
   "mimetype": "text/x-python",
   "name": "python",
   "nbconvert_exporter": "python",
   "pygments_lexer": "ipython3",
   "version": "3.10.1"
  },
  "vscode": {
   "interpreter": {
    "hash": "e01f98c1efd1268bedfeafc745a32ce1740c9ed588db6de697bb135db4ef3f8f"
   }
  }
 },
 "nbformat": 4,
 "nbformat_minor": 2
}
